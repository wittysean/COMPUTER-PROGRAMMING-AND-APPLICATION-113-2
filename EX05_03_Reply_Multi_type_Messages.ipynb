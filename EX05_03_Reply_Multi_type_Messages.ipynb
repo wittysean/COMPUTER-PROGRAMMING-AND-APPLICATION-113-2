{
  "nbformat": 4,
  "nbformat_minor": 0,
  "metadata": {
    "colab": {
      "provenance": [],
      "include_colab_link": true
    },
    "kernelspec": {
      "name": "python3",
      "display_name": "Python 3"
    },
    "language_info": {
      "name": "python"
    }
  },
  "cells": [
    {
      "cell_type": "markdown",
      "metadata": {
        "id": "view-in-github",
        "colab_type": "text"
      },
      "source": [
        "<a href=\"https://colab.research.google.com/github/wittysean/COMPUTER-PROGRAMMING-AND-APPLICATION-113-2/blob/main/EX05_03_Reply_Multi_type_Messages.ipynb\" target=\"_parent\"><img src=\"https://colab.research.google.com/assets/colab-badge.svg\" alt=\"Open In Colab\"/></a>"
      ]
    },
    {
      "cell_type": "markdown",
      "source": [
        "- 依使用者輸入：sticker, image, video, loaction，分別傳送貼圖、圖片、影片及地點，否則回覆 Gemini 的結果。"
      ],
      "metadata": {
        "id": "harvCygsvQct"
      }
    },
    {
      "cell_type": "code",
      "execution_count": 2,
      "metadata": {
        "colab": {
          "base_uri": "https://localhost:8080/"
        },
        "id": "SBDKxKyprsR3",
        "outputId": "2280d0d1-0fc8-44b8-a4af-3d1bfc88a2f5"
      },
      "outputs": [
        {
          "output_type": "stream",
          "name": "stdout",
          "text": [
            "\u001b[?25l   \u001b[90m━━━━━━━━━━━━━━━━━━━━━━━━━━━━━━━━━━━━━━━━\u001b[0m \u001b[32m0.0/776.1 kB\u001b[0m \u001b[31m?\u001b[0m eta \u001b[36m-:--:--\u001b[0m\r\u001b[2K   \u001b[91m━━━━━━━━━━━━━━━━━━━━━━━━\u001b[0m\u001b[90m╺\u001b[0m\u001b[90m━━━━━━━━━━━━━━━\u001b[0m \u001b[32m471.0/776.1 kB\u001b[0m \u001b[31m13.9 MB/s\u001b[0m eta \u001b[36m0:00:01\u001b[0m\r\u001b[2K   \u001b[90m━━━━━━━━━━━━━━━━━━━━━━━━━━━━━━━━━━━━━━━━\u001b[0m \u001b[32m776.1/776.1 kB\u001b[0m \u001b[31m13.3 MB/s\u001b[0m eta \u001b[36m0:00:00\u001b[0m\n",
            "\u001b[?25h\u001b[?25l   \u001b[90m━━━━━━━━━━━━━━━━━━━━━━━━━━━━━━━━━━━━━━━━\u001b[0m \u001b[32m0.0/165.6 kB\u001b[0m \u001b[31m?\u001b[0m eta \u001b[36m-:--:--\u001b[0m\r\u001b[2K   \u001b[90m━━━━━━━━━━━━━━━━━━━━━━━━━━━━━━━━━━━━━━━━\u001b[0m \u001b[32m165.6/165.6 kB\u001b[0m \u001b[31m9.3 MB/s\u001b[0m eta \u001b[36m0:00:00\u001b[0m\n",
            "\u001b[?25h"
          ]
        }
      ],
      "source": [
        "!pip install -q flask pyngrok flask_ngrok line-bot-sdk"
      ]
    },
    {
      "cell_type": "code",
      "source": [
        "# for colab\n",
        "from google.colab import userdata\n",
        "from flask import Flask, request, abort\n",
        "from pyngrok import ngrok\n",
        "\n",
        "from linebot.v3 import WebhookHandler\n",
        "from linebot.v3.exceptions import InvalidSignatureError\n",
        "from linebot.v3.webhooks import MessageEvent, TextMessageContent\n",
        "from linebot.v3.messaging import (\n",
        "    Configuration, ApiClient, MessagingApi,\n",
        "    ReplyMessageRequest,\n",
        "    TextMessage, StickerMessage, ImageMessage, VideoMessage, LocationMessage\n",
        ")\n",
        "\n",
        "import google.generativeai as genai\n",
        "\n",
        "# 讀取 Secret\n",
        "LINE_CHANNEL_ACCESS_TOKEN = userdata.get(\"LINE_CHANNEL_ACCESS_TOKEN\")\n",
        "LINE_CHANNEL_SECRET = userdata.get(\"LINE_CHANNEL_SECRET\")\n",
        "NGROK_AUTH_TOKEN = userdata.get(\"NGROK_AUTH_TOKEN\")\n",
        "GOOGLE_API_KEY = userdata.get(\"GOOGLE_API_KEY\")\n",
        "\n",
        "# 初始化 Flask\n",
        "app = Flask(__name__)\n",
        "\n",
        "# 初始化 Linebot\n",
        "configuration = Configuration(access_token=LINE_CHANNEL_ACCESS_TOKEN)\n",
        "handler = WebhookHandler(LINE_CHANNEL_SECRET)\n",
        "\n",
        "# 初始化 Gemini\n",
        "genai.configure(api_key=GOOGLE_API_KEY)\n",
        "model = genai.GenerativeModel(model_name=\"gemini-2.0-flash\")\n",
        "\n",
        "def ask_gemini(question):\n",
        "    response = model.generate_content(question)\n",
        "    return response.text\n",
        "\n",
        "# Webhook 路由\n",
        "@app.route(\"/callback\", methods=[\"POST\"])\n",
        "def callback():\n",
        "    signature = request.headers['X-Line-Signature']\n",
        "    body = request.get_data(as_text=True)\n",
        "    try:\n",
        "        handler.handle(body, signature)\n",
        "    except InvalidSignatureError:\n",
        "        abort(400)\n",
        "    return \"OK\"\n",
        "\n",
        "# 處理收到的 Line 訊息\n",
        "@handler.add(MessageEvent, message=TextMessageContent)\n",
        "def handle_message(event):\n",
        "    with ApiClient(configuration) as api_client:\n",
        "        line_bot_api = MessagingApi(api_client)\n",
        "\n",
        "        action = event.message.text\n",
        "        if action == \"sticker\":\n",
        "            reply = StickerMessage(package_id=\"446\", sticker_id=\"1989\")\n",
        "        elif action == \"image\":\n",
        "            reply = ImageMessage(\n",
        "                original_content_url=\"https://cdn.pixabay.com/photo/2019/02/21/18/36/city-4011922_1280.jpg\",\n",
        "                preview_image_url=\"https://cdn.pixabay.com/photo/2019/02/21/18/36/city-4011922_1280.jpg\"\n",
        "            )\n",
        "        elif action == \"video\":\n",
        "            reply = VideoMessage(\n",
        "                original_content_url=\"https://cdn.pixabay.com/video/2021/08/07/60742-573496615_large.mp4\",\n",
        "                preview_image_url=\"https://cdn.pixabay.com/photo/2017/11/14/05/41/taipei-taiwan-2947814_1280.jpg\"\n",
        "            )\n",
        "        elif action == \"location\":\n",
        "            reply = LocationMessage(\n",
        "                title=\"台北101\",\n",
        "                address=\"台北市信義路五段7號\",\n",
        "                latitude=25.03409570979266,\n",
        "                longitude=121.564536536767\n",
        "            )\n",
        "        else:\n",
        "            response = ask_gemini(action)\n",
        "            reply = TextMessage(text=response)\n",
        "\n",
        "        line_bot_api.reply_message(\n",
        "            ReplyMessageRequest(\n",
        "                reply_token=event.reply_token,\n",
        "                messages=[reply]\n",
        "            )\n",
        "        )\n",
        "\n",
        "# 啟動 pyngrok + Flask\n",
        "if __name__ == \"__main__\":\n",
        "    ngrok.set_auth_token(NGROK_AUTH_TOKEN)\n",
        "    public_url = ngrok.connect(5000).public_url\n",
        "    print(\"👉 請把這個網址填到 LINE Developer Webhook URL：\")\n",
        "    print(f\"{public_url}/callback\")\n",
        "\n",
        "    app.run(host=\"0.0.0.0\", port=5000)\n"
      ],
      "metadata": {
        "colab": {
          "base_uri": "https://localhost:8080/",
          "height": 1000
        },
        "id": "oshgYSfVw3Ed",
        "outputId": "174113de-6a38-4cd1-8547-9bd6b713af6c"
      },
      "execution_count": 3,
      "outputs": [
        {
          "output_type": "stream",
          "name": "stdout",
          "text": [
            "👉 請把這個網址填到 LINE Developer Webhook URL：\n",
            "https://3458-35-185-85-55.ngrok-free.app/callback\n",
            " * Serving Flask app '__main__'\n",
            " * Debug mode: off\n"
          ]
        },
        {
          "output_type": "stream",
          "name": "stderr",
          "text": [
            "INFO:werkzeug:\u001b[31m\u001b[1mWARNING: This is a development server. Do not use it in a production deployment. Use a production WSGI server instead.\u001b[0m\n",
            " * Running on all addresses (0.0.0.0)\n",
            " * Running on http://127.0.0.1:5000\n",
            " * Running on http://172.28.0.12:5000\n",
            "INFO:werkzeug:\u001b[33mPress CTRL+C to quit\u001b[0m\n",
            "INFO:werkzeug:127.0.0.1 - - [15/Jun/2025 18:21:31] \"POST /callback HTTP/1.1\" 200 -\n",
            "INFO:werkzeug:127.0.0.1 - - [15/Jun/2025 18:21:39] \"POST /callback HTTP/1.1\" 200 -\n",
            "INFO:werkzeug:127.0.0.1 - - [15/Jun/2025 18:21:54] \"POST /callback HTTP/1.1\" 200 -\n",
            "INFO:werkzeug:127.0.0.1 - - [15/Jun/2025 18:22:15] \"POST /callback HTTP/1.1\" 200 -\n",
            "INFO:werkzeug:127.0.0.1 - - [15/Jun/2025 18:22:20] \"POST /callback HTTP/1.1\" 200 -\n",
            "INFO:werkzeug:127.0.0.1 - - [15/Jun/2025 18:22:24] \"POST /callback HTTP/1.1\" 200 -\n",
            "INFO:werkzeug:127.0.0.1 - - [15/Jun/2025 18:22:30] \"POST /callback HTTP/1.1\" 200 -\n",
            "ERROR:__main__:Exception on /callback [POST]\n",
            "Traceback (most recent call last):\n",
            "  File \"/usr/local/lib/python3.11/dist-packages/flask/app.py\", line 1511, in wsgi_app\n",
            "    response = self.full_dispatch_request()\n",
            "               ^^^^^^^^^^^^^^^^^^^^^^^^^^^^\n",
            "  File \"/usr/local/lib/python3.11/dist-packages/flask/app.py\", line 919, in full_dispatch_request\n",
            "    rv = self.handle_user_exception(e)\n",
            "         ^^^^^^^^^^^^^^^^^^^^^^^^^^^^^\n",
            "  File \"/usr/local/lib/python3.11/dist-packages/flask/app.py\", line 917, in full_dispatch_request\n",
            "    rv = self.dispatch_request()\n",
            "         ^^^^^^^^^^^^^^^^^^^^^^^\n",
            "  File \"/usr/local/lib/python3.11/dist-packages/flask/app.py\", line 902, in dispatch_request\n",
            "    return self.ensure_sync(self.view_functions[rule.endpoint])(**view_args)  # type: ignore[no-any-return]\n",
            "           ^^^^^^^^^^^^^^^^^^^^^^^^^^^^^^^^^^^^^^^^^^^^^^^^^^^^^^^^^^^^^^^^^\n",
            "  File \"<ipython-input-3-1277152455>\", line 44, in callback\n",
            "    handler.handle(body, signature)\n",
            "  File \"/usr/local/lib/python3.11/dist-packages/linebot/v3/webhook.py\", line 227, in handle\n",
            "    self.__invoke_func(func, event, payload)\n",
            "  File \"/usr/local/lib/python3.11/dist-packages/linebot/v3/webhook.py\", line 239, in __invoke_func\n",
            "    func(event)\n",
            "  File \"<ipython-input-3-1277152455>\", line 79, in handle_message\n",
            "    line_bot_api.reply_message(\n",
            "  File \"/usr/local/lib/python3.11/dist-packages/pydantic/v1/decorator.py\", line 40, in wrapper_function\n",
            "    return vd.call(*args, **kwargs)\n",
            "           ^^^^^^^^^^^^^^^^^^^^^^^^\n",
            "  File \"/usr/local/lib/python3.11/dist-packages/pydantic/v1/decorator.py\", line 134, in call\n",
            "    return self.execute(m)\n",
            "           ^^^^^^^^^^^^^^^\n",
            "  File \"/usr/local/lib/python3.11/dist-packages/pydantic/v1/decorator.py\", line 206, in execute\n",
            "    return self.raw_function(**d, **var_kwargs)\n",
            "           ^^^^^^^^^^^^^^^^^^^^^^^^^^^^^^^^^^^^\n",
            "  File \"/usr/local/lib/python3.11/dist-packages/linebot/v3/messaging/api/messaging_api.py\", line 6820, in reply_message\n",
            "    return self.reply_message_with_http_info(reply_message_request, **kwargs)  # noqa: E501\n",
            "           ^^^^^^^^^^^^^^^^^^^^^^^^^^^^^^^^^^^^^^^^^^^^^^^^^^^^^^^^^^^^^^^^^^\n",
            "  File \"/usr/local/lib/python3.11/dist-packages/pydantic/v1/decorator.py\", line 40, in wrapper_function\n",
            "    return vd.call(*args, **kwargs)\n",
            "           ^^^^^^^^^^^^^^^^^^^^^^^^\n",
            "  File \"/usr/local/lib/python3.11/dist-packages/pydantic/v1/decorator.py\", line 134, in call\n",
            "    return self.execute(m)\n",
            "           ^^^^^^^^^^^^^^^\n",
            "  File \"/usr/local/lib/python3.11/dist-packages/pydantic/v1/decorator.py\", line 206, in execute\n",
            "    return self.raw_function(**d, **var_kwargs)\n",
            "           ^^^^^^^^^^^^^^^^^^^^^^^^^^^^^^^^^^^^\n",
            "  File \"/usr/local/lib/python3.11/dist-packages/linebot/v3/messaging/api/messaging_api.py\", line 6925, in reply_message_with_http_info\n",
            "    return self.api_client.call_api(\n",
            "           ^^^^^^^^^^^^^^^^^^^^^^^^^\n",
            "  File \"/usr/local/lib/python3.11/dist-packages/linebot/v3/messaging/api_client.py\", line 407, in call_api\n",
            "    return self.__call_api(resource_path, method,\n",
            "           ^^^^^^^^^^^^^^^^^^^^^^^^^^^^^^^^^^^^^^\n",
            "  File \"/usr/local/lib/python3.11/dist-packages/linebot/v3/messaging/api_client.py\", line 222, in __call_api\n",
            "    raise e\n",
            "  File \"/usr/local/lib/python3.11/dist-packages/linebot/v3/messaging/api_client.py\", line 212, in __call_api\n",
            "    response_data = self.request(\n",
            "                    ^^^^^^^^^^^^^\n",
            "  File \"/usr/local/lib/python3.11/dist-packages/linebot/v3/messaging/api_client.py\", line 451, in request\n",
            "    return self.rest_client.post_request(url,\n",
            "           ^^^^^^^^^^^^^^^^^^^^^^^^^^^^^^^^^^\n",
            "  File \"/usr/local/lib/python3.11/dist-packages/linebot/v3/messaging/rest.py\", line 270, in post_request\n",
            "    return self.request(\"POST\", url,\n",
            "           ^^^^^^^^^^^^^^^^^^^^^^^^^\n",
            "  File \"/usr/local/lib/python3.11/dist-packages/linebot/v3/messaging/rest.py\", line 229, in request\n",
            "    raise ApiException(http_resp=r)\n",
            "linebot.v3.messaging.exceptions.ApiException: (400)\n",
            "Reason: Bad Request\n",
            "HTTP response headers: HTTPHeaderDict({'Server': 'legy', 'Content-Type': 'application/json', 'x-content-type-options': 'nosniff', 'x-frame-options': 'DENY', 'x-line-request-id': '2f586910-e0a2-4676-b661-80416b87f297', 'x-xss-protection': '1; mode=block', 'Content-Length': '33', 'Expires': 'Sun, 15 Jun 2025 18:22:40 GMT', 'Cache-Control': 'max-age=0, no-cache, no-store', 'Pragma': 'no-cache', 'Date': 'Sun, 15 Jun 2025 18:22:40 GMT', 'Connection': 'close'})\n",
            "HTTP response body: {\"message\":\"Invalid reply token\"}\n",
            "\n",
            "INFO:werkzeug:127.0.0.1 - - [15/Jun/2025 18:22:40] \"\u001b[35m\u001b[1mPOST /callback HTTP/1.1\u001b[0m\" 500 -\n"
          ]
        }
      ]
    }
  ]
}