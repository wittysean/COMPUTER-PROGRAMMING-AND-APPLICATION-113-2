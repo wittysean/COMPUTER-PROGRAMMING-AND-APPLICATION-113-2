{
 "cells": [
  {
   "cell_type": "code",
   "execution_count": 15,
   "metadata": {},
   "outputs": [
    {
     "name": "stdout",
     "output_type": "stream",
     "text": [
      "商品欄： apple/25,banana/12,cherry/30\n",
      "購物車： apple,banana,apple\n",
      "功能列： 1.新增商品2.移除商品3.結帳4.離開\n",
      "結帳金額 62\n"
     ]
    }
   ],
   "source": [
    "from IPython.display import clear_output\n",
    "shopping_cart = []\n",
    "products = { \"apple\":25, \"banana\":12, \"cherry\":30}\n",
    "while True:\n",
    "    clear_output()\n",
    "    print('商品欄：',','.join([f'{pd}/{pr}'for pd, pr in products.items()]))\n",
    "    print('購物車：',','.join(shopping_cart))\n",
    "    print('功能列：','1.新增商品2.移除商品3.結帳4.離開')\n",
    "    act = input()\n",
    "    if act[0]=='1':\n",
    "        shopping_cart.append(act[1:])\n",
    "    elif act[0] == '2':\n",
    "        shopping_cart.remove(act[1:])\n",
    "    elif act[0] == '3':\n",
    "        tt=0\n",
    "        for pd in shopping_cart:\n",
    "            tt += products[pd]\n",
    "        print('結帳金額',tt)\n",
    "        break\n",
    "    else:\n",
    "        print('bye')\n",
    "        break\n"
   ]
  }
 ],
 "metadata": {
  "kernelspec": {
   "display_name": "base",
   "language": "python",
   "name": "python3"
  },
  "language_info": {
   "codemirror_mode": {
    "name": "ipython",
    "version": 3
   },
   "file_extension": ".py",
   "mimetype": "text/x-python",
   "name": "python",
   "nbconvert_exporter": "python",
   "pygments_lexer": "ipython3",
   "version": "3.12.4"
  }
 },
 "nbformat": 4,
 "nbformat_minor": 2
}
