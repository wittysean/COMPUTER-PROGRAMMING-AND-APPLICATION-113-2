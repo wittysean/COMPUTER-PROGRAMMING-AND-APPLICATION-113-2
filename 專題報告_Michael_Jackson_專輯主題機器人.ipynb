{
  "cells": [
    {
      "cell_type": "markdown",
      "metadata": {
        "id": "view-in-github",
        "colab_type": "text"
      },
      "source": [
        "<a href=\"https://colab.research.google.com/github/wittysean/COMPUTER-PROGRAMMING-AND-APPLICATION-113-2/blob/main/%E5%B0%88%E9%A1%8C%E5%A0%B1%E5%91%8A_Michael_Jackson_%E5%B0%88%E8%BC%AF%E4%B8%BB%E9%A1%8C%E6%A9%9F%E5%99%A8%E4%BA%BA.ipynb\" target=\"_parent\"><img src=\"https://colab.research.google.com/assets/colab-badge.svg\" alt=\"Open In Colab\"/></a>"
      ]
    },
    {
      "cell_type": "markdown",
      "id": "L5rYxQttfXxm",
      "metadata": {
        "id": "L5rYxQttfXxm"
      },
      "source": [
        "### 專題報告 - Michael Jackson 專輯主題機器人"
      ]
    },
    {
      "cell_type": "markdown",
      "id": "T03f_Ur4fiFj",
      "metadata": {
        "id": "T03f_Ur4fiFj"
      },
      "source": [
        "**一、專案目的**\n",
        "\n",
        "本專案旨在利用 LINE Messaging API 建立一個以 Michael Jackson 音樂作品為主題的互動式 LINE 聊天機器人。使用者可以透過指令查詢專輯資訊、進行歌曲搜尋、投票選擇最喜愛的專輯，並即時查看排行榜結果。\n",
        "\n",
        "本人非常喜愛 Michael Jackson 的音樂作品，其跨世代的影響力與經典曲目在全球廣受歡迎。透過本次專題，不僅得以整理與呈現其完整專輯資料，也希望藉此設計出一個能夠讓粉絲及使用者輕鬆互動、回味經典的 LINE 聊天機器人。"
      ]
    },
    {
      "cell_type": "markdown",
      "id": "nTW48SFPf3wg",
      "metadata": {
        "id": "nTW48SFPf3wg"
      },
      "source": [
        "**二、功能概述**\n",
        "1. 主選單功能 (Carousel 選單)\n",
        "- 觸發指令：menu\n",
        "- 透過 Carousel Template 顯示所有專輯清單 (目前共 11 張專輯)\n",
        "- 每張卡片提供兩個選項：\n",
        "  - View Info：查詢專輯完整資訊（年份、銷量、曲目）\n",
        "  - Vote：對該專輯進行投票\n",
        "2. 專輯資訊查詢\n",
        "- 觸發指令：info {專輯名稱} 或透過 Carousel 點擊\n",
        "- 顯示指定專輯之：年份、總銷售量 (格式：70,000,000 (70M))、完整曲目\n",
        "3. 投票機制\n",
        "- 觸發指令：vote {專輯名稱} 或透過 Carousel 點擊\n",
        "- 為專輯增加 1 票，並顯示目前累積投票\n",
        "4. 排行榜統計\n",
        "- 觸發指令：/top\n",
        "- 依投票數排序回傳排行榜\n",
        "5. 歌曲查詢 (反向歌曲索引功能)\n",
        "- 輸入任意歌曲名稱自動對應所屬專輯，並顯示專輯資訊\n",
        "6. 例外處理 (Fallback)\n",
        "- 輸入無法辨識之指令時提示 menu 與歌曲查詢指引"
      ]
    },
    {
      "cell_type": "markdown",
      "id": "jugKPTLfgciK",
      "metadata": {
        "id": "jugKPTLfgciK"
      },
      "source": [
        "**三、技術架構**\n",
        "\n",
        "- 開發平台：Google Colab (含 Ngrok 整合)\n",
        "- 伺服器框架：Flask (Webhook Server)\n",
        "- LINE SDK：line-bot-sdk v3 (新版 APIClient 實作)\n",
        "- 公開隧道：pyngrok + ngrok authtoken (Colab Secret 管理)\n",
        "- 憑證管理：透過 os.getenv() 讀取 Colab Secrets\n"
      ]
    },
    {
      "cell_type": "code",
      "execution_count": null,
      "id": "4344ccfc",
      "metadata": {
        "colab": {
          "base_uri": "https://localhost:8080/"
        },
        "id": "4344ccfc",
        "outputId": "beb0984e-67a6-4a99-eb8c-777eb502f6c0"
      },
      "outputs": [
        {
          "name": "stdout",
          "output_type": "stream",
          "text": [
            "Requirement already satisfied: line-bot-sdk in /opt/anaconda3/lib/python3.12/site-packages (3.17.1)\n",
            "Collecting ngrok\n",
            "  Downloading ngrok-1.4.0-cp37-abi3-macosx_11_0_arm64.whl.metadata (19 kB)\n",
            "Requirement already satisfied: pyngrok in /opt/anaconda3/lib/python3.12/site-packages (7.2.11)\n",
            "Requirement already satisfied: iPython in /opt/anaconda3/lib/python3.12/site-packages (8.25.0)\n",
            "Requirement already satisfied: requests<3,>=2.32.3 in /opt/anaconda3/lib/python3.12/site-packages (from line-bot-sdk) (2.32.4)\n",
            "Requirement already satisfied: urllib3<3,>=2.0.5 in /opt/anaconda3/lib/python3.12/site-packages (from line-bot-sdk) (2.2.2)\n",
            "Requirement already satisfied: aiohttp<4,>=3.10.9 in /opt/anaconda3/lib/python3.12/site-packages (from line-bot-sdk) (3.12.12)\n",
            "Requirement already satisfied: future>=1.0.0 in /opt/anaconda3/lib/python3.12/site-packages (from line-bot-sdk) (1.0.0)\n",
            "Requirement already satisfied: pydantic<3,>=2.0.3 in /opt/anaconda3/lib/python3.12/site-packages (from line-bot-sdk) (2.5.3)\n",
            "Requirement already satisfied: aenum<4,>=3.1.11 in /opt/anaconda3/lib/python3.12/site-packages (from line-bot-sdk) (3.1.16)\n",
            "Requirement already satisfied: python_dateutil<3,>=2.5.3 in /opt/anaconda3/lib/python3.12/site-packages (from line-bot-sdk) (2.9.0.post0)\n",
            "Requirement already satisfied: Deprecated>=1.2.18 in /opt/anaconda3/lib/python3.12/site-packages (from line-bot-sdk) (1.2.18)\n",
            "Requirement already satisfied: PyYAML>=5.1 in /opt/anaconda3/lib/python3.12/site-packages (from pyngrok) (6.0.1)\n",
            "Requirement already satisfied: decorator in /opt/anaconda3/lib/python3.12/site-packages (from iPython) (5.1.1)\n",
            "Requirement already satisfied: jedi>=0.16 in /opt/anaconda3/lib/python3.12/site-packages (from iPython) (0.18.1)\n",
            "Requirement already satisfied: matplotlib-inline in /opt/anaconda3/lib/python3.12/site-packages (from iPython) (0.1.6)\n",
            "Requirement already satisfied: prompt-toolkit<3.1.0,>=3.0.41 in /opt/anaconda3/lib/python3.12/site-packages (from iPython) (3.0.43)\n",
            "Requirement already satisfied: pygments>=2.4.0 in /opt/anaconda3/lib/python3.12/site-packages (from iPython) (2.15.1)\n",
            "Requirement already satisfied: stack-data in /opt/anaconda3/lib/python3.12/site-packages (from iPython) (0.2.0)\n",
            "Requirement already satisfied: traitlets>=5.13.0 in /opt/anaconda3/lib/python3.12/site-packages (from iPython) (5.14.3)\n",
            "Requirement already satisfied: pexpect>4.3 in /opt/anaconda3/lib/python3.12/site-packages (from iPython) (4.8.0)\n",
            "Requirement already satisfied: aiohappyeyeballs>=2.5.0 in /opt/anaconda3/lib/python3.12/site-packages (from aiohttp<4,>=3.10.9->line-bot-sdk) (2.6.1)\n",
            "Requirement already satisfied: aiosignal>=1.1.2 in /opt/anaconda3/lib/python3.12/site-packages (from aiohttp<4,>=3.10.9->line-bot-sdk) (1.2.0)\n",
            "Requirement already satisfied: attrs>=17.3.0 in /opt/anaconda3/lib/python3.12/site-packages (from aiohttp<4,>=3.10.9->line-bot-sdk) (23.1.0)\n",
            "Requirement already satisfied: frozenlist>=1.1.1 in /opt/anaconda3/lib/python3.12/site-packages (from aiohttp<4,>=3.10.9->line-bot-sdk) (1.4.0)\n",
            "Requirement already satisfied: multidict<7.0,>=4.5 in /opt/anaconda3/lib/python3.12/site-packages (from aiohttp<4,>=3.10.9->line-bot-sdk) (6.0.4)\n",
            "Requirement already satisfied: propcache>=0.2.0 in /opt/anaconda3/lib/python3.12/site-packages (from aiohttp<4,>=3.10.9->line-bot-sdk) (0.3.2)\n",
            "Requirement already satisfied: yarl<2.0,>=1.17.0 in /opt/anaconda3/lib/python3.12/site-packages (from aiohttp<4,>=3.10.9->line-bot-sdk) (1.20.1)\n",
            "Requirement already satisfied: wrapt<2,>=1.10 in /opt/anaconda3/lib/python3.12/site-packages (from Deprecated>=1.2.18->line-bot-sdk) (1.14.1)\n",
            "Requirement already satisfied: parso<0.9.0,>=0.8.0 in /opt/anaconda3/lib/python3.12/site-packages (from jedi>=0.16->iPython) (0.8.3)\n",
            "Requirement already satisfied: ptyprocess>=0.5 in /opt/anaconda3/lib/python3.12/site-packages (from pexpect>4.3->iPython) (0.7.0)\n",
            "Requirement already satisfied: wcwidth in /opt/anaconda3/lib/python3.12/site-packages (from prompt-toolkit<3.1.0,>=3.0.41->iPython) (0.2.5)\n",
            "Requirement already satisfied: annotated-types>=0.4.0 in /opt/anaconda3/lib/python3.12/site-packages (from pydantic<3,>=2.0.3->line-bot-sdk) (0.6.0)\n",
            "Requirement already satisfied: pydantic-core==2.14.6 in /opt/anaconda3/lib/python3.12/site-packages (from pydantic<3,>=2.0.3->line-bot-sdk) (2.14.6)\n",
            "Requirement already satisfied: typing-extensions>=4.6.1 in /opt/anaconda3/lib/python3.12/site-packages (from pydantic<3,>=2.0.3->line-bot-sdk) (4.11.0)\n",
            "Requirement already satisfied: six>=1.5 in /opt/anaconda3/lib/python3.12/site-packages (from python_dateutil<3,>=2.5.3->line-bot-sdk) (1.16.0)\n",
            "Requirement already satisfied: charset_normalizer<4,>=2 in /opt/anaconda3/lib/python3.12/site-packages (from requests<3,>=2.32.3->line-bot-sdk) (2.0.4)\n",
            "Requirement already satisfied: idna<4,>=2.5 in /opt/anaconda3/lib/python3.12/site-packages (from requests<3,>=2.32.3->line-bot-sdk) (3.7)\n",
            "Requirement already satisfied: certifi>=2017.4.17 in /opt/anaconda3/lib/python3.12/site-packages (from requests<3,>=2.32.3->line-bot-sdk) (2024.8.30)\n",
            "Requirement already satisfied: executing in /opt/anaconda3/lib/python3.12/site-packages (from stack-data->iPython) (0.8.3)\n",
            "Requirement already satisfied: asttokens in /opt/anaconda3/lib/python3.12/site-packages (from stack-data->iPython) (2.0.5)\n",
            "Requirement already satisfied: pure-eval in /opt/anaconda3/lib/python3.12/site-packages (from stack-data->iPython) (0.2.2)\n",
            "Downloading ngrok-1.4.0-cp37-abi3-macosx_11_0_arm64.whl (2.6 MB)\n",
            "\u001b[2K   \u001b[90m━━━━━━━━━━━━━━━━━━━━━━━━━━━━━━━━━━━━━━━━\u001b[0m \u001b[32m2.6/2.6 MB\u001b[0m \u001b[31m7.3 MB/s\u001b[0m eta \u001b[36m0:00:00\u001b[0ma \u001b[36m0:00:01\u001b[0m\n",
            "\u001b[?25hInstalling collected packages: ngrok\n",
            "Successfully installed ngrok-1.4.0\n",
            "\n",
            "\u001b[1m[\u001b[0m\u001b[34;49mnotice\u001b[0m\u001b[1;39;49m]\u001b[0m\u001b[39;49m A new release of pip is available: \u001b[0m\u001b[31;49m25.0.1\u001b[0m\u001b[39;49m -> \u001b[0m\u001b[32;49m25.1.1\u001b[0m\n",
            "\u001b[1m[\u001b[0m\u001b[34;49mnotice\u001b[0m\u001b[1;39;49m]\u001b[0m\u001b[39;49m To update, run: \u001b[0m\u001b[32;49mpip install --upgrade pip\u001b[0m\n"
          ]
        }
      ],
      "source": [
        "\n",
        "!pip install line-bot-sdk ngrok pyngrok iPython\n"
      ]
    },
    {
      "cell_type": "code",
      "execution_count": null,
      "id": "5fe2b363",
      "metadata": {
        "id": "5fe2b363"
      },
      "outputs": [],
      "source": [
        "\n",
        "from google.colab import userdata\n",
        "from pyngrok import ngrok\n",
        "from linebot.v3.webhook import WebhookHandler\n",
        "from linebot.v3.webhooks import MessageEvent, TextMessageContent\n",
        "from linebot.v3.messaging import MessagingApi, Configuration, TextMessage, ReplyMessageRequest\n",
        "from linebot.v3.messaging.models import TemplateMessage, CarouselTemplate, CarouselColumn, MessageAction\n",
        "from linebot.v3.exceptions import InvalidSignatureError\n",
        "from linebot.v3.messaging import ApiClient\n",
        "\n",
        "# Colab secrets for credentials\n",
        "CHANNEL_ACCESS_TOKEN = userdata.get(\"LINE_CHANNEL_ACCESS_TOKEN\")\n",
        "CHANNEL_SECRET = userdata.get(\"LINE_CHANNEL_SECRET\")\n",
        "NGROK_AUTH_TOKEN = userdata.get(\"NGROK_AUTH_TOKEN\")\n"
      ]
    },
    {
      "cell_type": "code",
      "execution_count": null,
      "id": "dc7c8dab",
      "metadata": {
        "id": "dc7c8dab"
      },
      "outputs": [],
      "source": [
        "\n",
        "# Apply ngrok authentication\n",
        "ngrok.set_auth_token(NGROK_AUTH_TOKEN)\n"
      ]
    },
    {
      "cell_type": "markdown",
      "id": "dyFbXqGUgfZM",
      "metadata": {
        "id": "dyFbXqGUgfZM"
      },
      "source": [
        "**四、資料設計**\n",
        "\n",
        "目前共收錄 Michael Jackson 之 11 張正式專輯資料，包含 Motown 早期、主流與身後專輯。\n",
        "資料欄位：\n",
        "- year：年份\n",
        "- sales：銷量 (整數，利於格式化)\n",
        "- songs：曲目\n",
        "- cover：封面 (部分使用 placeholder)\n"
      ]
    },
    {
      "cell_type": "code",
      "execution_count": null,
      "id": "e839dd84",
      "metadata": {
        "id": "e839dd84"
      },
      "outputs": [],
      "source": [
        "\n",
        "album_data = {\n",
        "    \"Got to Be There\": {\n",
        "        \"year\": 1972, \"sales\": 2000000,\n",
        "        \"songs\": [\n",
        "            \"Ain't No Sunshine\", \"I Wanna Be Where You Are\", \"Girl Don't Take Your Love From Me\",\n",
        "            \"In Our Small Way\", \"Got to Be There\", \"Rockin' Robin\", \"Wings of My Love\",\n",
        "            \"Maria (You Were the Only One)\", \"Love Is Here and Now You're Gone\", \"You've Got a Friend\"\n",
        "        ],\n",
        "        \"cover\": \"https://upload.wikimedia.org/wikipedia/en/thumb/b/b2/Mj1971-got-to-be-there.jpg/250px-Mj1971-got-to-be-there.jpg\"\n",
        "    },\n",
        "    \"Ben\": {\n",
        "        \"year\": 1972, \"sales\": 2000000,\n",
        "        \"songs\": [\n",
        "            \"Ben\", \"Greatest Show on Earth\", \"People Make the World Go 'Round\", \"We've Got a Good Thing Going\",\n",
        "            \"Everybody's Somebody's Fool\", \"My Girl\", \"What Goes Around Comes Around\", \"In Our Small Way\",\n",
        "            \"Shoo-Be-Doo-Be-Doo-Da-Day\", \"You Can Cry on My Shoulder\"\n",
        "        ],\n",
        "        \"cover\": \"https://lh3.googleusercontent.com/qx2XfantCerpCCvMMJRHWulhaj73WDavPph7aB19EG-mDsbIpRk6prjQxVhl6BOmX1RVFP_l-uoNX_Akyg=w544-h544-s-l90-rj\"\n",
        "    },\n",
        "    \"Music & Me\": {\n",
        "        \"year\": 1973, \"sales\": 1000000,\n",
        "        \"songs\": [\n",
        "            \"With a Child's Heart\", \"Up Again\", \"All the Things You Are\", \"Happy\", \"Too Young\",\n",
        "            \"Doggin' Around\", \"Johnny Raven\", \"Euphoria\", \"Morning Glow\", \"Music and Me\"\n",
        "        ],\n",
        "        \"cover\": \"https://lh3.googleusercontent.com/33_r_7savr68acaP1Df50BpQyv_ZO3uZIMT-BAASqmswcXF_9xXupUifxNzxY6Ia1nXyL5VmOIfvxgAhDA=w544-h544-l90-rj\"\n",
        "    },\n",
        "    \"Forever, Michael\": {\n",
        "        \"year\": 1975, \"sales\": 1000000,\n",
        "        \"songs\": [\n",
        "            \"We're Almost There\", \"Take Me Back\", \"One Day in Your Life\", \"Cinderella Stay Awhile\",\n",
        "            \"We've Got Forever\", \"Just a Little Bit of You\", \"You Are There\", \"Dapper-Dan\",\n",
        "            \"Dear Michael\", \"I'll Come Home to You\"\n",
        "        ],\n",
        "        \"cover\": \"https://lh3.googleusercontent.com/CCP03PdfzD_z30UlbwV6fqAoPivZZNH445W-avgxcx63hrCHZlXNDul3Ze9Sd0OVVbn0Ic1dH0FSMYQjsQ=w544-h544-s-l90-rj\"\n",
        "    },\n",
        "    \"Thriller\": {\n",
        "        \"year\": 1982, \"sales\": 70000000,\n",
        "        \"songs\": [\n",
        "            \"Wanna Be Startin' Somethin'\", \"Baby Be Mine\", \"The Girl Is Mine\", \"Thriller\",\n",
        "            \"Beat It\", \"Billie Jean\", \"Human Nature\", \"P.Y.T. (Pretty Young Thing)\", \"The Lady in My Life\"\n",
        "        ],\n",
        "        \"cover\": \"https://upload.wikimedia.org/wikipedia/en/5/55/Michael_Jackson_-_Thriller.png\"\n",
        "    },\n",
        "    \"Bad\": {\n",
        "        \"year\": 1987, \"sales\": 35000000,\n",
        "        \"songs\": [\n",
        "            \"Bad\", \"The Way You Make Me Feel\", \"Speed Demon\", \"Liberian Girl\", \"Just Good Friends\",\n",
        "            \"Another Part of Me\", \"Man in the Mirror\", \"I Just Can't Stop Loving You\", \"Dirty Diana\",\n",
        "            \"Smooth Criminal\", \"Leave Me Alone\"\n",
        "        ],\n",
        "        \"cover\": \"https://upload.wikimedia.org/wikipedia/en/5/51/Michael_Jackson_-_Bad.png\"\n",
        "    },\n",
        "    \"Dangerous\": {\n",
        "        \"year\": 1991, \"sales\": 32000000,\n",
        "        \"songs\": [\n",
        "            \"Jam\", \"Why You Wanna Trip on Me\", \"In the Closet\", \"She Drives Me Wild\", \"Remember the Time\",\n",
        "            \"Can't Let Her Get Away\", \"Heal the World\", \"Black or White\", \"Who Is It\", \"Give In to Me\",\n",
        "            \"Will You Be There\", \"Keep the Faith\", \"Gone Too Soon\", \"Dangerous\"\n",
        "        ],\n",
        "        \"cover\": \"https://lh3.googleusercontent.com/acFvHA1OEoI0HBPPG33zidd9n9aG1OTvo7XQQeFjEeQObGv6R3464BvFijHerp3Sit5UeHvQnx6LMoE=w544-h544-l90-rj\"\n",
        "    },\n",
        "    \"HIStory\": {\n",
        "        \"year\": 1995, \"sales\": 20000000,\n",
        "        \"songs\": [\n",
        "            \"Scream\", \"They Don't Care About Us\", \"Stranger in Moscow\", \"This Time Around\", \"Earth Song\",\n",
        "            \"D.S.\", \"Money\", \"Come Together\", \"You Are Not Alone\", \"Childhood\", \"Tabloid Junkie\",\n",
        "            \"2 Bad\", \"HIStory\", \"Little Susie\", \"Smile\"\n",
        "        ],\n",
        "        \"cover\": \"https://lh3.googleusercontent.com/R7pwf7-lcPvK3dxv8jMkUd4SlbVmrM-nZOFEJqnHGLQFBl4lqj1gyeWSFO5X9HZxgUhTh4KM8n0l7j_k=w544-h544-l90-rj\"\n",
        "    },\n",
        "    \"Invincible\": {\n",
        "        \"year\": 2001, \"sales\": 6000000,\n",
        "        \"songs\": [\n",
        "            \"Unbreakable\", \"Heartbreaker\", \"Invincible\", \"Break of Dawn\", \"Heaven Can Wait\", \"You Rock My World\",\n",
        "            \"Butterflies\", \"Speechless\", \"2000 Watts\", \"You Are My Life\", \"Privacy\", \"Don't Walk Away\",\n",
        "            \"Cry\", \"The Lost Children\", \"Whatever Happens\", \"Threatened\"\n",
        "        ],\n",
        "        \"cover\": \"https://lh3.googleusercontent.com/L0nwBz3JF8kFa1-1PAOiLC6pB49lsRc3QRCbj1gvU3uCNf4SXnLUGtAFBha1CZ02mhQzMJrcl-rJ0pSG=w544-h544-l90-rj\"\n",
        "    },\n",
        "    \"Michael\": {\n",
        "        \"year\": 2010, \"sales\": 1000000,\n",
        "        \"songs\": [\n",
        "            \"Hold My Hand\", \"Hollywood Tonight\", \"Keep Your Head Up\", \"I Like the Way You Love Me\",\n",
        "            \"Monster\", \"Best of Joy\", \"Breaking News\", \"(I Can't Make It) Another Day\", \"Behind the Mask\", \"Much Too Soon\"\n",
        "        ],\n",
        "        \"cover\": \"https://lh3.googleusercontent.com/-DE1fXN4FdvCXTfQz9N6TMX1qhjyIOYO5rRlFpWpZxBPWLH2un4Ia_yAuuZwXgtNEJPdeWvW5cBfL_ct=w544-h544-l90-rj\"\n",
        "    },\n",
        "    \"Xscape\": {\n",
        "        \"year\": 2014, \"sales\": 1000000,\n",
        "        \"songs\": [\n",
        "            \"Love Never Felt So Good\", \"Chicago\", \"Loving You\", \"A Place with No Name\", \"Slave to the Rhythm\",\n",
        "            \"Do You Know Where Your Children Are\", \"Blue Gangsta\", \"Xscape\"\n",
        "        ],\n",
        "        \"cover\": \"https://lh3.googleusercontent.com/qk8rEQ5zgdeXxszR37SjJHOPOlPG6NhD5F4r-rxdxdrdmf7rF6xv_OdrCBuZBxaTFc4fVK2ImJLW5FKt=w544-h544-l90-rj\"\n",
        "    }\n",
        "}\n",
        "vote_counter = {album: 0 for album in album_data}\n",
        "song_lookup = {song.lower(): album for album, data in album_data.items() for song in data[\"songs\"]}\n"
      ]
    },
    {
      "cell_type": "code",
      "execution_count": null,
      "id": "e561bdb0",
      "metadata": {
        "id": "e561bdb0"
      },
      "outputs": [],
      "source": [
        "\n",
        "from flask import Flask, request, abort\n",
        "\n",
        "app = Flask(__name__)\n",
        "configuration = Configuration(access_token=CHANNEL_ACCESS_TOKEN)\n",
        "api_client = ApiClient(configuration)\n",
        "line_bot_api = MessagingApi(api_client)\n",
        "handler = WebhookHandler(CHANNEL_SECRET)\n",
        "\n",
        "def format_sales(sales):\n",
        "    return f\"{sales:,} ({sales//1_000_000}M)\"\n",
        "\n",
        "def build_album_carousel():\n",
        "    columns = []\n",
        "    for album_name, data in album_data.items():\n",
        "        column = CarouselColumn(\n",
        "            thumbnail_image_url=data['cover'],\n",
        "            title=album_name,\n",
        "            text=f\"{data['year']} - {format_sales(data['sales'])}\",\n",
        "            actions=[\n",
        "                MessageAction(label=\"View Info\", text=f\"info {album_name}\"),\n",
        "                MessageAction(label=\"Vote\", text=f\"vote {album_name}\")\n",
        "            ]\n",
        "        )\n",
        "        columns.append(column)\n",
        "    carousel_template = CarouselTemplate(columns=columns[:10])\n",
        "    return TemplateMessage(alt_text=\"Album Selection\", template=carousel_template)\n",
        "\n",
        "@app.route(\"/callback\", methods=['POST'])\n",
        "def callback():\n",
        "    signature = request.headers['X-Line-Signature']\n",
        "    body = request.get_data(as_text=False).decode('utf-8')\n",
        "    try:\n",
        "        handler.handle(body, signature)\n",
        "    except InvalidSignatureError:\n",
        "        abort(400)\n",
        "    return 'OK'\n",
        "\n",
        "@handler.add(MessageEvent)\n",
        "def handle_message(event):\n",
        "    if isinstance(event.message, TextMessageContent):\n",
        "        user_text = event.message.text.strip()\n",
        "\n",
        "        if user_text.lower() == 'menu':\n",
        "            carousel_msg = build_album_carousel()\n",
        "            line_bot_api.reply_message_with_http_info(\n",
        "                ReplyMessageRequest(reply_token=event.reply_token, messages=[carousel_msg])\n",
        "            )\n",
        "            return\n",
        "\n",
        "        if user_text.lower().startswith(\"info \"):\n",
        "            album_name = user_text[5:].strip()\n",
        "            if album_name in album_data:\n",
        "                data = album_data[album_name]\n",
        "                songs = \"\\n\".join(f\"- {song}\" for song in data[\"songs\"])\n",
        "                reply = f\"🎶 Album: {album_name}\\n📅 Year: {data['year']}\\n💿 Sales: {format_sales(data['sales'])}\\n🎵 Songs:\\n{songs}\"\n",
        "            else:\n",
        "                reply = \"❌ Album not found.\"\n",
        "            line_bot_api.reply_message_with_http_info(\n",
        "                ReplyMessageRequest(reply_token=event.reply_token, messages=[TextMessage(text=reply)])\n",
        "            )\n",
        "            return\n",
        "\n",
        "        if user_text.lower().startswith(\"vote \"):\n",
        "            album_name = user_text[5:].strip()\n",
        "            if album_name in vote_counter:\n",
        "                vote_counter[album_name] += 1\n",
        "                reply = f\"✅ Voted for {album_name}! Total votes: {vote_counter[album_name]}\"\n",
        "            else:\n",
        "                reply = \"❌ Album not found for voting.\"\n",
        "            line_bot_api.reply_message_with_http_info(\n",
        "                ReplyMessageRequest(reply_token=event.reply_token, messages=[TextMessage(text=reply)])\n",
        "            )\n",
        "            return\n",
        "\n",
        "        if user_text.lower() == \"/top\":\n",
        "            sorted_votes = sorted(vote_counter.items(), key=lambda x: x[1], reverse=True)\n",
        "            leaderboard = \"\\n\".join(f\"{i+1}. {name} - {votes} votes\" for i, (name, votes) in enumerate(sorted_votes))\n",
        "            line_bot_api.reply_message_with_http_info(\n",
        "                ReplyMessageRequest(reply_token=event.reply_token, messages=[TextMessage(text=leaderboard)])\n",
        "            )\n",
        "            return\n",
        "\n",
        "        song_key = user_text.lower()\n",
        "        if song_key in song_lookup:\n",
        "            album_name = song_lookup[song_key]\n",
        "            data = album_data[album_name]\n",
        "            songs = \"\\n\".join(f\"- {song}\" for song in data[\"songs\"])\n",
        "            reply = f\"🎶 Album (from song '{user_text}'): {album_name}\\n📅 Year: {data['year']}\\n💿 Sales: {format_sales(data['sales'])}\\n🎵 Songs:\\n{songs}\"\n",
        "            line_bot_api.reply_message_with_http_info(\n",
        "                ReplyMessageRequest(reply_token=event.reply_token, messages=[TextMessage(text=reply)])\n",
        "            )\n",
        "            return\n",
        "\n",
        "        reply = \"🤖 Type 'menu' to browse albums, or enter song name.\"\n",
        "        line_bot_api.reply_message_with_http_info(\n",
        "            ReplyMessageRequest(reply_token=event.reply_token, messages=[TextMessage(text=reply)])\n",
        "        )\n"
      ]
    },
    {
      "cell_type": "code",
      "execution_count": null,
      "id": "3edd76e5",
      "metadata": {
        "colab": {
          "base_uri": "https://localhost:8080/"
        },
        "id": "3edd76e5",
        "outputId": "d25c0ba1-cfcf-48f6-c28f-d3d54c622c03"
      },
      "outputs": [
        {
          "name": "stdout",
          "output_type": "stream",
          "text": [
            "Your public URL to paste into LINE webhook: https://b4a5-34-48-183-192.ngrok-free.app/callback\n",
            " * Serving Flask app '__main__'\n",
            " * Debug mode: off\n"
          ]
        },
        {
          "name": "stderr",
          "output_type": "stream",
          "text": [
            "INFO:werkzeug:\u001b[31m\u001b[1mWARNING: This is a development server. Do not use it in a production deployment. Use a production WSGI server instead.\u001b[0m\n",
            " * Running on http://127.0.0.1:5000\n",
            "INFO:werkzeug:\u001b[33mPress CTRL+C to quit\u001b[0m\n",
            "INFO:werkzeug:127.0.0.1 - - [16/Jun/2025 02:16:39] \"POST /callback HTTP/1.1\" 200 -\n",
            "INFO:werkzeug:127.0.0.1 - - [16/Jun/2025 02:16:59] \"POST /callback HTTP/1.1\" 200 -\n",
            "INFO:werkzeug:127.0.0.1 - - [16/Jun/2025 02:17:06] \"POST /callback HTTP/1.1\" 200 -\n",
            "INFO:werkzeug:127.0.0.1 - - [16/Jun/2025 02:17:12] \"POST /callback HTTP/1.1\" 200 -\n",
            "INFO:werkzeug:127.0.0.1 - - [16/Jun/2025 02:17:23] \"POST /callback HTTP/1.1\" 200 -\n",
            "INFO:werkzeug:127.0.0.1 - - [16/Jun/2025 02:17:24] \"POST /callback HTTP/1.1\" 200 -\n",
            "INFO:werkzeug:127.0.0.1 - - [16/Jun/2025 02:17:28] \"POST /callback HTTP/1.1\" 200 -\n",
            "INFO:werkzeug:127.0.0.1 - - [16/Jun/2025 02:17:37] \"POST /callback HTTP/1.1\" 200 -\n",
            "INFO:werkzeug:127.0.0.1 - - [16/Jun/2025 02:17:37] \"POST /callback HTTP/1.1\" 200 -\n",
            "INFO:werkzeug:127.0.0.1 - - [16/Jun/2025 02:17:39] \"POST /callback HTTP/1.1\" 200 -\n",
            "INFO:werkzeug:127.0.0.1 - - [16/Jun/2025 02:17:40] \"POST /callback HTTP/1.1\" 200 -\n",
            "INFO:werkzeug:127.0.0.1 - - [16/Jun/2025 02:17:42] \"POST /callback HTTP/1.1\" 200 -\n",
            "INFO:werkzeug:127.0.0.1 - - [16/Jun/2025 02:21:27] \"POST /callback HTTP/1.1\" 200 -\n",
            "INFO:werkzeug:127.0.0.1 - - [16/Jun/2025 02:21:32] \"POST /callback HTTP/1.1\" 200 -\n",
            "INFO:werkzeug:127.0.0.1 - - [16/Jun/2025 02:21:36] \"POST /callback HTTP/1.1\" 200 -\n",
            "INFO:werkzeug:127.0.0.1 - - [16/Jun/2025 02:21:37] \"POST /callback HTTP/1.1\" 200 -\n",
            "INFO:werkzeug:127.0.0.1 - - [16/Jun/2025 02:21:44] \"POST /callback HTTP/1.1\" 200 -\n",
            "INFO:werkzeug:127.0.0.1 - - [16/Jun/2025 02:21:46] \"POST /callback HTTP/1.1\" 200 -\n",
            "INFO:werkzeug:127.0.0.1 - - [16/Jun/2025 02:21:47] \"POST /callback HTTP/1.1\" 200 -\n",
            "INFO:werkzeug:127.0.0.1 - - [16/Jun/2025 02:21:58] \"POST /callback HTTP/1.1\" 200 -\n"
          ]
        }
      ],
      "source": [
        "\n",
        "public_url = ngrok.connect(5000).public_url\n",
        "print(\"Your public URL to paste into LINE webhook:\", public_url + \"/callback\")\n",
        "app.run(port=5000)\n"
      ]
    },
    {
      "cell_type": "code",
      "execution_count": null,
      "id": "30884db0",
      "metadata": {
        "id": "30884db0",
        "outputId": "afa0d080-55c3-4f38-813e-10b061049555"
      },
      "outputs": [
        {
          "data": {
            "text/html": [
              "\n",
              "<div style=\"display:flex;\">\n",
              "  <img src=\"https://github.com/wittysean/COMPUTER-PROGRAMMING-AND-APPLICATION-113-2/raw/4839379d64825e8a4e98eb67daa66980e836d859/MJ%204.jpg\" width=\"300\">\n",
              "  <img src=\"https://github.com/wittysean/COMPUTER-PROGRAMMING-AND-APPLICATION-113-2/raw/4839379d64825e8a4e98eb67daa66980e836d859/MJ%202.jpg\" width=\"300\">\n",
              "  <img src=\"https://github.com/wittysean/COMPUTER-PROGRAMMING-AND-APPLICATION-113-2/raw/4839379d64825e8a4e98eb67daa66980e836d859/MJ%201.jpg\" width=\"300\">\n",
              "  <img src=\"https://github.com/wittysean/COMPUTER-PROGRAMMING-AND-APPLICATION-113-2/raw/4839379d64825e8a4e98eb67daa66980e836d859/MJ%203.jpg\" width=\"300\">\n",
              "</div>\n"
            ],
            "text/plain": [
              "<IPython.core.display.HTML object>"
            ]
          },
          "metadata": {},
          "output_type": "display_data"
        }
      ],
      "source": [
        "from IPython.display import display, HTML\n",
        "\n",
        "display(HTML(\"\"\"\n",
        "<div style=\"display:flex;\">\n",
        "  <img src=\"https://github.com/wittysean/COMPUTER-PROGRAMMING-AND-APPLICATION-113-2/raw/4839379d64825e8a4e98eb67daa66980e836d859/MJ%204.jpg\" width=\"300\">\n",
        "  <img src=\"https://github.com/wittysean/COMPUTER-PROGRAMMING-AND-APPLICATION-113-2/raw/4839379d64825e8a4e98eb67daa66980e836d859/MJ%202.jpg\" width=\"300\">\n",
        "  <img src=\"https://github.com/wittysean/COMPUTER-PROGRAMMING-AND-APPLICATION-113-2/raw/4839379d64825e8a4e98eb67daa66980e836d859/MJ%201.jpg\" width=\"300\">\n",
        "  <img src=\"https://github.com/wittysean/COMPUTER-PROGRAMMING-AND-APPLICATION-113-2/raw/4839379d64825e8a4e98eb67daa66980e836d859/MJ%203.jpg\" width=\"300\">\n",
        "</div>\n",
        "\"\"\"))"
      ]
    },
    {
      "cell_type": "markdown",
      "id": "UEYpIb7Eg8zg",
      "metadata": {
        "id": "UEYpIb7Eg8zg"
      },
      "source": [
        "**五、目前功能限制與改進方向**\n",
        "\n",
        "在目前版本中，系統於技術層面尚有部分優化空間。目前排行榜功能僅以純文字方式呈現，未來可透過 Flex Message 美化排行榜版面，提升使用者閱讀與互動體驗。\n",
        "\n",
        "由於 LINE Carousel Template 存在每次僅能顯示 10 張專輯的限制，當專輯總數超過 10 張時，最後一張專輯將無法正常顯示，亦無法提供完整投票與資訊查詢功能。後續可考慮導入 Carousel 分頁邏輯或改用 LIFF 網頁呈現完整專輯清單，以解決此上限問題。\n",
        "\n",
        "目前所有專輯皆已補齊正式封面圖片，整體視覺完整性與呈現效果已大幅提升。另一方面，投票資料目前僅儲存在記憶體中，當服務中斷後資料即會消失，尚未實作資料持久性儲存功能。未來可考慮接入雲端資料庫以保存使用者歷史紀錄。\n",
        "\n",
        "此外，針對新進使用者，目前系統尚未提供歡迎訊息或基本使用教學，可能導致初次使用者對操作流程感到迷惘。後續可於初次互動時設計歡迎提示與簡易功能導覽，提升系統易用性與友善度。\n",
        "\n",
        "在持續開發方向上，未來可新增 Flex Message 排行榜版面設計、使用者個人投票紀錄查詢功能，並可進一步支援模糊歌曲查詢（如 partial match、fuzzy matching）以強化搜尋彈性。此外，也可整合 LIFF 前端互動式選單，提供圖形化操作介面，並將系統部署至 Render 或 Hugging Face 等雲端平台，以達成 24/7 穩定運作之完整服務架構。"
      ]
    },
    {
      "cell_type": "markdown",
      "id": "R4fbVehghGpw",
      "metadata": {
        "id": "R4fbVehghGpw"
      },
      "source": [
        "**六、整體專案收穫**\n",
        "\n",
        "完整整合以下技能模組：\n",
        "- LINE Messaging API 與 Webhook 設計\n",
        "- Carousel UI 建置\n",
        "- 反向字典查詢資料結構\n",
        "- pyngrok + Colab 整合部署\n",
        "- APIClient 新版 SDK 實作\n",
        "- 憑證安全管理設計"
      ]
    }
  ],
  "metadata": {
    "colab": {
      "provenance": [],
      "include_colab_link": true
    },
    "kernelspec": {
      "display_name": "base",
      "language": "python",
      "name": "python3"
    },
    "language_info": {
      "codemirror_mode": {
        "name": "ipython",
        "version": 3
      },
      "file_extension": ".py",
      "mimetype": "text/x-python",
      "name": "python",
      "nbconvert_exporter": "python",
      "pygments_lexer": "ipython3",
      "version": "3.12.4"
    }
  },
  "nbformat": 4,
  "nbformat_minor": 5
}