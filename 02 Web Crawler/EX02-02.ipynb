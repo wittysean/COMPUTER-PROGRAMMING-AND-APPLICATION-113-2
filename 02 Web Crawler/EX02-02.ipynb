{
 "cells": [
  {
   "cell_type": "code",
   "execution_count": 6,
   "metadata": {},
   "outputs": [
    {
     "ename": "OSError",
     "evalue": "[Errno 30] Read-only file system: 'stats.csv'",
     "output_type": "error",
     "traceback": [
      "\u001b[0;31m---------------------------------------------------------------------------\u001b[0m",
      "\u001b[0;31mOSError\u001b[0m                                   Traceback (most recent call last)",
      "Cell \u001b[0;32mIn[6], line 17\u001b[0m\n\u001b[1;32m     15\u001b[0m \u001b[38;5;28;01mfor\u001b[39;00m i \u001b[38;5;129;01min\u001b[39;00m stats:\n\u001b[1;32m     16\u001b[0m     wr\u001b[38;5;241m.\u001b[39mappend(\u001b[38;5;28mlist\u001b[39m(i\u001b[38;5;241m.\u001b[39mvalues()))\n\u001b[0;32m---> 17\u001b[0m \u001b[38;5;28;01mwith\u001b[39;00m \u001b[38;5;28mopen\u001b[39m(\u001b[38;5;124m\"\u001b[39m\u001b[38;5;124mstats.csv\u001b[39m\u001b[38;5;124m\"\u001b[39m, \u001b[38;5;124m\"\u001b[39m\u001b[38;5;124mw\u001b[39m\u001b[38;5;124m\"\u001b[39m, encoding\u001b[38;5;241m=\u001b[39m\u001b[38;5;124m\"\u001b[39m\u001b[38;5;124mutf-8-sig\u001b[39m\u001b[38;5;124m\"\u001b[39m, newline\u001b[38;5;241m=\u001b[39m\u001b[38;5;124m\"\u001b[39m\u001b[38;5;124m\"\u001b[39m) \u001b[38;5;28;01mas\u001b[39;00m f:\n\u001b[1;32m     18\u001b[0m     writer \u001b[38;5;241m=\u001b[39m csv\u001b[38;5;241m.\u001b[39mwriter(f)\n\u001b[1;32m     19\u001b[0m     writer\u001b[38;5;241m.\u001b[39mwriterows(wr)\n",
      "File \u001b[0;32m/opt/anaconda3/lib/python3.12/site-packages/IPython/core/interactiveshell.py:324\u001b[0m, in \u001b[0;36m_modified_open\u001b[0;34m(file, *args, **kwargs)\u001b[0m\n\u001b[1;32m    317\u001b[0m \u001b[38;5;28;01mif\u001b[39;00m file \u001b[38;5;129;01min\u001b[39;00m {\u001b[38;5;241m0\u001b[39m, \u001b[38;5;241m1\u001b[39m, \u001b[38;5;241m2\u001b[39m}:\n\u001b[1;32m    318\u001b[0m     \u001b[38;5;28;01mraise\u001b[39;00m \u001b[38;5;167;01mValueError\u001b[39;00m(\n\u001b[1;32m    319\u001b[0m         \u001b[38;5;124mf\u001b[39m\u001b[38;5;124m\"\u001b[39m\u001b[38;5;124mIPython won\u001b[39m\u001b[38;5;124m'\u001b[39m\u001b[38;5;124mt let you open fd=\u001b[39m\u001b[38;5;132;01m{\u001b[39;00mfile\u001b[38;5;132;01m}\u001b[39;00m\u001b[38;5;124m by default \u001b[39m\u001b[38;5;124m\"\u001b[39m\n\u001b[1;32m    320\u001b[0m         \u001b[38;5;124m\"\u001b[39m\u001b[38;5;124mas it is likely to crash IPython. If you know what you are doing, \u001b[39m\u001b[38;5;124m\"\u001b[39m\n\u001b[1;32m    321\u001b[0m         \u001b[38;5;124m\"\u001b[39m\u001b[38;5;124myou can use builtins\u001b[39m\u001b[38;5;124m'\u001b[39m\u001b[38;5;124m open.\u001b[39m\u001b[38;5;124m\"\u001b[39m\n\u001b[1;32m    322\u001b[0m     )\n\u001b[0;32m--> 324\u001b[0m \u001b[38;5;28;01mreturn\u001b[39;00m io_open(file, \u001b[38;5;241m*\u001b[39margs, \u001b[38;5;241m*\u001b[39m\u001b[38;5;241m*\u001b[39mkwargs)\n",
      "\u001b[0;31mOSError\u001b[0m: [Errno 30] Read-only file system: 'stats.csv'"
     ]
    }
   ],
   "source": [
    "# 1. Import requests and get JSON data from a URL\n",
    "import requests\n",
    "url = 'https://data.kcg.gov.tw/dataset/7059ab4b-9f3c-4cc8-8667-02221e76fc7f/resource/fc4bbc3e-b019-4c3b-8526-72b29bc0a77e/download/11311.json'\n",
    "response = requests.get(url)\n",
    "response.status_code  # Should return 200 if successful\n",
    "\n",
    "# 2. Convert the response to JSON\n",
    "stats = response.json()\n",
    "stats[0]\n",
    "\n",
    "# 3. Export the JSON data to a CSV file\n",
    "import csv\n",
    "wr = []\n",
    "wr.append(list(stats[0].keys()))\n",
    "for i in stats:\n",
    "    wr.append(list(i.values()))\n",
    "with open(\"stats.csv\", \"w\", encoding=\"utf-8-sig\", newline=\"\") as f:\n",
    "    writer = csv.writer(f)\n",
    "    writer.writerows(wr)\n",
    "\n",
    "# 4. Read the CSV data\n",
    "import csv\n",
    "with open(\"stats.csv\", \"r\") as file:\n",
    "    reader = csv.reader(file)\n",
    "    stats = list(reader)\n",
    "stats\n",
    "\n",
    "# 5. Install gradio if not installed\n",
    "!pip install gradio -q\n",
    "\n",
    "# 6. Create a Gradio interface\n",
    "import gradio as gr\n",
    "\n",
    "def stat_info(id):\n",
    "    info = \"\"\n",
    "    for i in stats[1:]:\n",
    "        if i[1] == id:\n",
    "            try:\n",
    "                lat = float(i[6])\n",
    "                lon = float(i[7])\n",
    "            except (ValueError, TypeError):\n",
    "                return \"經緯度資料錯誤\", \"\"\n",
    "            \n",
    "            info = f\"統計區({id})\\n戶數:{i[2]}戶\\n男:{i[3]}人\\n女:{i[4]}人\\n人口:{i[5]}人\"\n",
    "            return info, get_html(lat, lon)\n",
    "    \n",
    "    # No matching data found\n",
    "    return \"找不到資料\", \"\"\n",
    "\n",
    "def get_html(lat, lon):\n",
    "    lat = float(lat)\n",
    "    lon = float(lon)\n",
    "    iframe = f'''\n",
    "    <iframe style=\"width: 100%; height: 400px;\"\n",
    "        src=\"https://www.openstreetmap.org/export/embed.html?bbox={lon-0.01}%2C{lat-0.01}%2C{lon+0.01}%2C{lat+0.01}&layer=mapnik&marker={lat}%2C{lon}\">\n",
    "    </iframe>\n",
    "    '''\n",
    "    return iframe\n",
    "\n",
    "menu = []\n",
    "for i in stats[1:]:\n",
    "    menu.append(i[1])\n",
    "\n",
    "iface = gr.Interface(\n",
    "    fn=stat_info,\n",
    "    inputs=gr.Dropdown(choices=menu, label=\"統計區代碼\"),\n",
    "    outputs=[gr.Textbox(label=\"統計資訊\"), gr.HTML(label=\"地圖地點\")]\n",
    ")\n",
    "iface.launch()"
   ]
  },
  {
   "cell_type": "code",
   "execution_count": 1,
   "metadata": {},
   "outputs": [
    {
     "name": "stdout",
     "output_type": "stream",
     "text": [
      "Failed to fetch data. Status code: 404\n"
     ]
    }
   ],
   "source": [
    "import requests\n",
    "\n",
    "url = 'https://data.kcg.gov.tw/dataset/2b92bbd4-98ec-4824-8ab1-5e346979666b/resource/66f27822-612b-4cb3-b0f6-86ae5b340f96/download/11111.json'\n",
    "\n",
    "# Add a user agent header\n",
    "headers = {\n",
    "    'User-Agent': 'Mozilla/5.0'\n",
    "}\n",
    "\n",
    "response = requests.get(url, headers=headers)\n",
    "\n",
    "if response.status_code == 200:\n",
    "    try:\n",
    "        stats = response.json()\n",
    "        print(stats[:1])  # Show first record\n",
    "    except Exception as e:\n",
    "        print(\"JSON decode error:\", e)\n",
    "        print(\"Response content:\", response.text[:500])\n",
    "else:\n",
    "    print(\"Failed to fetch data. Status code:\", response.status_code)"
   ]
  }
 ],
 "metadata": {
  "kernelspec": {
   "display_name": "base",
   "language": "python",
   "name": "python3"
  },
  "language_info": {
   "codemirror_mode": {
    "name": "ipython",
    "version": 3
   },
   "file_extension": ".py",
   "mimetype": "text/x-python",
   "name": "python",
   "nbconvert_exporter": "python",
   "pygments_lexer": "ipython3",
   "version": "3.12.4"
  }
 },
 "nbformat": 4,
 "nbformat_minor": 2
}
