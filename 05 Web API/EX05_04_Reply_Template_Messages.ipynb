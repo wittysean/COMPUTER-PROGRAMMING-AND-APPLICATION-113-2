{
  "nbformat": 4,
  "nbformat_minor": 0,
  "metadata": {
    "colab": {
      "provenance": [],
      "include_colab_link": true
    },
    "kernelspec": {
      "name": "python3",
      "display_name": "Python 3"
    },
    "language_info": {
      "name": "python"
    }
  },
  "cells": [
    {
      "cell_type": "markdown",
      "metadata": {
        "id": "view-in-github",
        "colab_type": "text"
      },
      "source": [
        "<a href=\"https://colab.research.google.com/github/wittysean/COMPUTER-PROGRAMMING-AND-APPLICATION-113-2/blob/main/EX05_04_Reply_Template_Messages.ipynb\" target=\"_parent\"><img src=\"https://colab.research.google.com/assets/colab-badge.svg\" alt=\"Open In Colab\"/></a>"
      ]
    },
    {
      "cell_type": "markdown",
      "source": [
        "- 依使用者輸入：confirm, buttons, carousel, imgCarousel，分別傳送確認模板、按鈕模板、輪播模板及圖片輪播模板。\n",
        "- 模板上的按鈕能觸發不同類型的 Action Object。"
      ],
      "metadata": {
        "id": "OZWNVg_20DOe"
      }
    },
    {
      "cell_type": "code",
      "execution_count": 2,
      "metadata": {
        "colab": {
          "base_uri": "https://localhost:8080/"
        },
        "id": "MBGZlrEVz8NU",
        "outputId": "183f175c-8dd7-471a-8529-27dfbc8e3da5"
      },
      "outputs": [
        {
          "output_type": "stream",
          "name": "stdout",
          "text": [
            "\u001b[2K   \u001b[90m━━━━━━━━━━━━━━━━━━━━━━━━━━━━━━━━━━━━━━━━\u001b[0m \u001b[32m776.1/776.1 kB\u001b[0m \u001b[31m7.7 MB/s\u001b[0m eta \u001b[36m0:00:00\u001b[0m\n",
            "\u001b[2K   \u001b[90m━━━━━━━━━━━━━━━━━━━━━━━━━━━━━━━━━━━━━━━━\u001b[0m \u001b[32m165.6/165.6 kB\u001b[0m \u001b[31m13.7 MB/s\u001b[0m eta \u001b[36m0:00:00\u001b[0m\n",
            "\u001b[?25h"
          ]
        }
      ],
      "source": [
        "!pip install -q pyngrok flask_ngrok\n",
        "!pip install -q flask line-bot-sdk"
      ]
    },
    {
      "cell_type": "code",
      "source": [
        "from google.colab import userdata\n",
        "from pyngrok import ngrok\n",
        "from flask import Flask, request, abort\n",
        "\n",
        "from linebot.v3 import WebhookHandler\n",
        "from linebot.v3.exceptions import InvalidSignatureError\n",
        "from linebot.v3.webhooks import MessageEvent, TextMessageContent\n",
        "from linebot.v3.messaging import (\n",
        "    Configuration, ApiClient, MessagingApi,\n",
        "    ReplyMessageRequest,\n",
        "    TextMessage,\n",
        "    TemplateMessage, ConfirmTemplate, MessageAction,\n",
        "    CarouselTemplate, CarouselColumn, URIAction\n",
        ")\n",
        "\n",
        "# 讀取 secret\n",
        "NGROK_AUTH_TOKEN = userdata.get('NGROK_AUTH_TOKEN')\n",
        "LINE_CHANNEL_ACCESS_TOKEN = userdata.get('LINE_CHANNEL_ACCESS_TOKEN')\n",
        "LINE_CHANNEL_SECRET = userdata.get('LINE_CHANNEL_SECRET')\n",
        "\n",
        "app = Flask(__name__)\n",
        "\n",
        "configuration = Configuration(access_token=LINE_CHANNEL_ACCESS_TOKEN)\n",
        "handler = WebhookHandler(LINE_CHANNEL_SECRET)\n",
        "\n",
        "@app.route(\"/callback\", methods=['POST'])\n",
        "def callback():\n",
        "    signature = request.headers['X-Line-Signature']\n",
        "    body = request.get_data(as_text=True)\n",
        "    try:\n",
        "        handler.handle(body, signature)\n",
        "    except InvalidSignatureError:\n",
        "        abort(400)\n",
        "    return 'OK'\n",
        "\n",
        "@handler.add(MessageEvent, message=TextMessageContent)\n",
        "def handle_message(event):\n",
        "    with ApiClient(configuration) as api_client:\n",
        "        line_bot_api = MessagingApi(api_client)\n",
        "\n",
        "        action = event.message.text\n",
        "\n",
        "        if action == 'confirm':\n",
        "            template = ConfirmTemplate(\n",
        "                text='你喜歡 Charlie Puth 的音樂嗎？',\n",
        "                actions=[\n",
        "                    MessageAction(label='喜歡', text='我超喜歡 Charlie Puth'),\n",
        "                    MessageAction(label='還好', text='其實我也滿喜歡，只是裝作冷靜而已')\n",
        "                ]\n",
        "            )\n",
        "            reply = TemplateMessage(\n",
        "                alt_text='這是確認視窗',\n",
        "                template=template\n",
        "            )\n",
        "\n",
        "        elif action == 'carousel':\n",
        "            carousel_template = CarouselTemplate(\n",
        "                columns=[\n",
        "                    CarouselColumn(\n",
        "                        thumbnail_image_url='https://upload.wikimedia.org/wikipedia/en/0/04/Charlie_Puth_-_Voicenotes.png',\n",
        "                        title='Voicenotes',\n",
        "                        text='2018年發行，代表作 Attention 來自此專輯',\n",
        "                        actions=[\n",
        "                            URIAction(label='維基百科', uri='https://en.wikipedia.org/wiki/Voicenotes'),\n",
        "                            MessageAction(label='我喜歡 Voicenotes', text='Voicenotes 是我最愛的專輯')\n",
        "                        ]\n",
        "                    ),\n",
        "                    CarouselColumn(\n",
        "                        thumbnail_image_url='https://upload.wikimedia.org/wikipedia/en/e/e0/Charlie_Puth_-_Charlie.png',\n",
        "                        title='CHARLIE',\n",
        "                        text='2022年發行，更加展現個人風格',\n",
        "                        actions=[\n",
        "                            URIAction(label='維基百科', uri='https://en.wikipedia.org/wiki/Charlie_(Charlie_Puth_album)'),\n",
        "                            MessageAction(label='我喜歡 CHARLIE', text='CHARLIE 是我最愛的專輯')\n",
        "                        ]\n",
        "                    )\n",
        "                ]\n",
        "            )\n",
        "            reply = TemplateMessage(\n",
        "                alt_text='這是輪播視窗',\n",
        "                template=carousel_template\n",
        "            )\n",
        "\n",
        "        else:\n",
        "            reply = TextMessage(text='Please type \"confirm\" or \"carousel\"!')\n",
        "\n",
        "        line_bot_api.reply_message(\n",
        "            ReplyMessageRequest(\n",
        "                reply_token=event.reply_token,\n",
        "                messages=[reply]\n",
        "            )\n",
        "        )\n",
        "\n",
        "if __name__ == \"__main__\":\n",
        "    ngrok.set_auth_token(NGROK_AUTH_TOKEN)\n",
        "    public_url = ngrok.connect(5000).public_url\n",
        "    print(\"👉 請把這個網址填到 LINE Developer Webhook URL：\")\n",
        "    print(f\"{public_url}/callback\")\n",
        "    app.run(host=\"0.0.0.0\", port=5000)"
      ],
      "metadata": {
        "colab": {
          "base_uri": "https://localhost:8080/"
        },
        "id": "btw7p80Y0K4_",
        "outputId": "1d9ef7a8-c67b-4360-c4a1-4e68d3043a45"
      },
      "execution_count": 3,
      "outputs": [
        {
          "output_type": "stream",
          "name": "stdout",
          "text": [
            "👉 請把這個網址填到 LINE Developer Webhook URL：\n",
            "https://4cde-104-198-26-38.ngrok-free.app/callback\n",
            " * Serving Flask app '__main__'\n",
            " * Debug mode: off\n"
          ]
        },
        {
          "output_type": "stream",
          "name": "stderr",
          "text": [
            "INFO:werkzeug:\u001b[31m\u001b[1mWARNING: This is a development server. Do not use it in a production deployment. Use a production WSGI server instead.\u001b[0m\n",
            " * Running on all addresses (0.0.0.0)\n",
            " * Running on http://127.0.0.1:5000\n",
            " * Running on http://172.28.0.12:5000\n",
            "INFO:werkzeug:\u001b[33mPress CTRL+C to quit\u001b[0m\n",
            "WARNING:pyngrok.process.ngrok:t=2025-06-16T16:36:07+0000 lvl=warn msg=\"failed to check for update\" obj=updater err=\"Post \\\"https://update.equinox.io/check\\\": context deadline exceeded\"\n",
            "INFO:werkzeug:127.0.0.1 - - [16/Jun/2025 16:36:25] \"POST /callback HTTP/1.1\" 200 -\n",
            "INFO:werkzeug:127.0.0.1 - - [16/Jun/2025 16:36:33] \"POST /callback HTTP/1.1\" 200 -\n",
            "INFO:werkzeug:127.0.0.1 - - [16/Jun/2025 16:36:38] \"POST /callback HTTP/1.1\" 200 -\n",
            "INFO:werkzeug:127.0.0.1 - - [16/Jun/2025 16:36:42] \"POST /callback HTTP/1.1\" 200 -\n",
            "INFO:werkzeug:127.0.0.1 - - [16/Jun/2025 16:36:49] \"POST /callback HTTP/1.1\" 200 -\n",
            "INFO:werkzeug:127.0.0.1 - - [16/Jun/2025 16:36:57] \"POST /callback HTTP/1.1\" 200 -\n",
            "INFO:werkzeug:127.0.0.1 - - [16/Jun/2025 16:37:05] \"POST /callback HTTP/1.1\" 200 -\n",
            "INFO:werkzeug:127.0.0.1 - - [16/Jun/2025 16:37:08] \"POST /callback HTTP/1.1\" 200 -\n"
          ]
        }
      ]
    }
  ]
}