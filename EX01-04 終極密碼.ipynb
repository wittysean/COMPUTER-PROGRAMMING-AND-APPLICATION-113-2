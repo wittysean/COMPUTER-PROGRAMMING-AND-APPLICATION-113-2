{
 "cells": [
  {
   "cell_type": "code",
   "execution_count": 3,
   "metadata": {},
   "outputs": [
    {
     "name": "stdout",
     "output_type": "stream",
     "text": [
      "0 - 100\n",
      "0 - 50\n",
      "20 - 50\n",
      "20 - 30\n",
      "20 - 25\n",
      "20 - 22\n",
      "猜中\n"
     ]
    }
   ],
   "source": [
    "import random\n",
    "bomb = random.randint(1,99)\n",
    "\n",
    "lf = 0\n",
    "rt = 100\n",
    "\n",
    "while True:\n",
    "    print(lf, '-', rt)\n",
    "    gu = int(input('guess:'))\n",
    "    if gu <= lf or gu >= rt:\n",
    "        print('超過範圍')\n",
    "    elif gu < bomb:\n",
    "            lf =gu\n",
    "    elif gu > bomb:\n",
    "        rt = gu\n",
    "    else:\n",
    "        print('猜中')\n",
    "        break\n",
    "\n",
    "\n",
    "\n"
   ]
  }
 ],
 "metadata": {
  "kernelspec": {
   "display_name": "base",
   "language": "python",
   "name": "python3"
  },
  "language_info": {
   "codemirror_mode": {
    "name": "ipython",
    "version": 3
   },
   "file_extension": ".py",
   "mimetype": "text/x-python",
   "name": "python",
   "nbconvert_exporter": "python",
   "pygments_lexer": "ipython3",
   "version": "3.12.4"
  }
 },
 "nbformat": 4,
 "nbformat_minor": 2
}
