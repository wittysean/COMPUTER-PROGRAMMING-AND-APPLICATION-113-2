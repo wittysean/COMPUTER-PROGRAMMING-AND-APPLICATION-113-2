{
 "cells": [
  {
   "cell_type": "markdown",
   "metadata": {},
   "source": [
    "import google.generativeai as genai\n",
    "\n",
    "import os\n",
    "from dotenv import load_dotenv\n",
    "\n",
    "# Load environment variables\n",
    "load_dotenv()\n",
    "\n",
    "# Get the API key\n",
    "api_key = os.getenv(\"API_KEY\")\n",
    "\n",
    "\n",
    "genai.configure(api_key=api_key)\n",
    "model = genai.GenerativeModel(\"gemini-2.0-flash\")\n",
    "response = model.generate_content(\"Explain how AI works\")\n",
    "print(response.text)"
   ]
  },
  {
   "cell_type": "code",
   "execution_count": 25,
   "metadata": {},
   "outputs": [
    {
     "name": "stdout",
     "output_type": "stream",
     "text": [
      "Okay, let's break down how AI works. It's a broad field, so I'll give you a general overview, then delve into some specific techniques.\n",
      "\n",
      "**What is AI?**\n",
      "\n",
      "At its core, Artificial Intelligence (AI) is about creating machines that can perform tasks that typically require human intelligence. These tasks include:\n",
      "\n",
      "*   **Learning:** Acquiring information and rules for using the information.\n",
      "*   **Reasoning:** Using rules to reach conclusions.\n",
      "*   **Problem Solving:** Formulating problems, planning steps to solve them, and evaluating possible solutions.\n",
      "*   **Perception:**  Interpreting sensory input (like images, sound, or text).\n",
      "*   **Natural Language Processing:** Understanding and generating human language.\n",
      "*   **Decision-Making:** Choosing the best course of action based on available information.\n",
      "\n",
      "**The Basic Approach**\n",
      "\n",
      "Generally, AI systems work by:\n",
      "\n",
      "1.  **Data Ingestion:**  Feeding the AI system a large amount of data relevant to the task it needs to perform.  This data can be structured (like spreadsheets), unstructured (like text or images), or a combination.\n",
      "2.  **Model Training:** The AI uses algorithms to analyze the data and identify patterns, relationships, and rules. This process is called \"training\" and creates a \"model\" (a mathematical representation of the data).\n",
      "3.  **Model Evaluation:** The trained model is tested with new, unseen data to evaluate its performance. If the model doesn't perform well, it's adjusted and re-trained.\n",
      "4.  **Deployment:** Once the model is accurate and reliable enough, it's deployed into a real-world application where it can make predictions or decisions.\n",
      "5.  **Continuous Improvement:** The AI system continues to learn and improve as it encounters new data and feedback.\n",
      "\n",
      "**Key AI Techniques**\n",
      "\n",
      "Here are some of the most common and important techniques used in AI:\n",
      "\n",
      "*   **Machine Learning (ML):**  This is the most prominent branch of AI. Instead of explicitly programming a machine to perform a task, you \"teach\" it to learn from data. There are different types of machine learning:\n",
      "\n",
      "    *   **Supervised Learning:** The AI is given labeled data (e.g., images of cats labeled as \"cat\" and images of dogs labeled as \"dog\"). The AI learns to associate the features of the data (e.g., shape of the ears, color of the fur) with the correct label. Examples: spam detection, image classification, fraud detection.  Algorithms used:  Linear Regression, Logistic Regression, Support Vector Machines (SVM), Decision Trees, Random Forests, Naive Bayes.\n",
      "\n",
      "    *   **Unsupervised Learning:** The AI is given unlabeled data and tasked with finding patterns and structures within it. Examples: customer segmentation, anomaly detection, dimensionality reduction. Algorithms used: K-Means Clustering, Hierarchical Clustering, Principal Component Analysis (PCA), Association Rule Learning (Apriori, Eclat).\n",
      "\n",
      "    *   **Reinforcement Learning:** The AI learns by interacting with an environment and receiving rewards or penalties for its actions. The AI aims to maximize its cumulative reward.  Examples: game playing (like AlphaGo), robotics, resource management. Algorithms used: Q-Learning, Deep Q-Networks (DQN), Policy Gradient Methods.\n",
      "\n",
      "*   **Deep Learning:**  A subfield of machine learning that uses artificial neural networks with multiple layers (hence \"deep\"). These networks are inspired by the structure of the human brain and are capable of learning very complex patterns from large amounts of data.\n",
      "\n",
      "    *   **Neural Networks:** Consist of interconnected nodes (neurons) organized in layers.  Data flows through the network, and each connection has a weight associated with it. During training, the weights are adjusted to minimize the error between the network's output and the desired output.\n",
      "    *   **Convolutional Neural Networks (CNNs):**  Specifically designed for processing images and videos. They use convolutional layers to extract features from the input data.\n",
      "    *   **Recurrent Neural Networks (RNNs):** Designed for processing sequential data, such as text and speech. They have feedback loops that allow them to maintain a memory of past inputs.  LSTMs (Long Short-Term Memory networks) are a popular type of RNN that can handle long-range dependencies in sequential data.\n",
      "    *   **Transformers:**  A more recent type of neural network architecture that has revolutionized natural language processing. They rely on a mechanism called \"attention\" to weigh the importance of different parts of the input sequence.  BERT, GPT-3, and other large language models are based on the Transformer architecture.\n",
      "\n",
      "*   **Natural Language Processing (NLP):**  Focuses on enabling computers to understand, interpret, and generate human language. Key tasks include:\n",
      "\n",
      "    *   **Text Classification:** Categorizing text into predefined categories (e.g., sentiment analysis, topic classification).\n",
      "    *   **Machine Translation:** Translating text from one language to another.\n",
      "    *   **Text Summarization:** Generating concise summaries of longer texts.\n",
      "    *   **Question Answering:** Answering questions posed in natural language.\n",
      "    *   **Named Entity Recognition (NER):** Identifying and classifying named entities (e.g., people, organizations, locations) in text.\n",
      "    *   **Speech Recognition:** Converting spoken language into text.\n",
      "    *   **Text Generation:** Generating human-like text.\n",
      "\n",
      "*   **Computer Vision:**  Enables computers to \"see\" and interpret images and videos.  Key tasks include:\n",
      "\n",
      "    *   **Image Classification:**  Identifying the objects or scenes present in an image.\n",
      "    *   **Object Detection:** Locating and identifying specific objects within an image.\n",
      "    *   **Image Segmentation:** Dividing an image into different regions based on their content.\n",
      "    *   **Facial Recognition:** Identifying individuals from images or videos of their faces.\n",
      "    *   **Image Generation:** Creating new images from scratch or modifying existing images.\n",
      "\n",
      "*   **Expert Systems:**  AI systems that attempt to mimic the reasoning abilities of a human expert in a specific domain.  They typically consist of a knowledge base (containing facts and rules) and an inference engine (that uses the rules to draw conclusions).\n",
      "\n",
      "*   **Robotics:**  Involves designing, building, and operating robots. AI is often used to control robots' behavior, enabling them to perform complex tasks in unstructured environments.\n",
      "\n",
      "**Important Concepts to Understand**\n",
      "\n",
      "*   **Algorithms:**  A set of instructions that a computer follows to solve a problem.  Many different algorithms are used in AI.\n",
      "*   **Features:**  The characteristics or attributes of data that are used to train AI models.  Feature engineering is the process of selecting and transforming features to improve model performance.\n",
      "*   **Training Data:** The data used to train an AI model.  The quality and quantity of training data are crucial for the model's accuracy.\n",
      "*   **Model Parameters:**  The values that are learned by an AI model during training.  These parameters determine the model's behavior.\n",
      "*   **Overfitting:**  A situation where an AI model performs well on the training data but poorly on new, unseen data.  This can happen when the model is too complex and learns the noise in the training data.\n",
      "*   **Underfitting:**  A situation where an AI model fails to capture the underlying patterns in the data and performs poorly on both the training data and new data.  This can happen when the model is too simple.\n",
      "*   **Bias:** Systematic errors in the AI's predictions due to flaws in the training data or the algorithms used. This can lead to unfair or discriminatory outcomes.\n",
      "*   **Explainability:** The ability to understand why an AI model made a particular decision.  This is important for building trust in AI systems and for identifying and correcting errors.\n",
      "\n",
      "**Challenges in AI**\n",
      "\n",
      "*   **Data Requirements:**  Many AI algorithms require massive amounts of data to train effectively.\n",
      "*   **Computational Resources:**  Training complex AI models can be computationally expensive and require specialized hardware (like GPUs).\n",
      "*   **Bias and Fairness:**  AI models can perpetuate and amplify biases present in the training data, leading to unfair or discriminatory outcomes.\n",
      "*   **Explainability and Trust:**  Understanding how AI models make decisions can be difficult, which can make it hard to trust them.\n",
      "*   **Ethical Considerations:**  AI raises a number of ethical concerns, such as job displacement, privacy, and the potential for misuse.\n",
      "\n",
      "**In Summary**\n",
      "\n",
      "AI uses various techniques, especially machine learning, to enable computers to learn from data and perform tasks that typically require human intelligence. It's a rapidly evolving field with immense potential, but also significant challenges that need to be addressed.  The choice of technique depends heavily on the specific task and the data available.\n",
      "\n"
     ]
    }
   ],
   "source": [
    "import google.generativeai as genai\n",
    "import os\n",
    "from dotenv import load_dotenv\n",
    "\n",
    "# ✅ Specify the absolute path to your .env file\n",
    "env_path = \"/Users/seanlin/Desktop/apikey.env\"  # Update this path if needed\n",
    "\n",
    "# ✅ Load environment variables\n",
    "load_dotenv(dotenv_path=env_path)\n",
    "\n",
    "# ✅ Get the API key\n",
    "api_key = os.getenv(\"API_KEY\")\n",
    "\n",
    "# ✅ Ensure API key is loaded\n",
    "if not api_key:\n",
    "    raise ValueError(\"API_KEY not found! Check your .env file and path.\")\n",
    "\n",
    "# ✅ Configure Generative AI\n",
    "genai.configure(api_key=api_key)\n",
    "\n",
    "# ✅ Use the model\n",
    "model = genai.GenerativeModel(\"gemini-2.0-flash\")\n",
    "response = model.generate_content(\"Explain how AI works\")\n",
    "\n",
    "# ✅ Print response\n",
    "print(response.text)"
   ]
  },
  {
   "cell_type": "code",
   "execution_count": 8,
   "metadata": {},
   "outputs": [
    {
     "name": "stdout",
     "output_type": "stream",
     "text": [
      "/wittysean/COMPUTER-PROGRAMMING-AND-APPLICATION-113-2/02 Web Crawler/API_KEY.env\n"
     ]
    }
   ],
   "source": [
    "import os\n",
    "print(os.path.abspath(\"wittysean/COMPUTER-PROGRAMMING-AND-APPLICATION-113-2/02 Web Crawler/API_KEY.env\"))"
   ]
  },
  {
   "cell_type": "code",
   "execution_count": 23,
   "metadata": {},
   "outputs": [
    {
     "name": "stdout",
     "output_type": "stream",
     "text": [
      "API Key Loaded Successfully!\n"
     ]
    }
   ],
   "source": [
    "import os\n",
    "\n",
    "file_path = \"/Users/seanlin/Desktop/apikey.env\"\n",
    "\n",
    "api_key = None  # Default to None in case of issues\n",
    "\n",
    "try:\n",
    "    with open(file_path, \"r\") as f:\n",
    "        for line in f:\n",
    "            if line.startswith(\"API_KEY=\"):\n",
    "                api_key = line.strip().split(\"=\", 1)[1]\n",
    "                break  # Stop after finding the API key\n",
    "\n",
    "    if api_key:\n",
    "        print(\"API Key Loaded Successfully!\")  # ✅ Success (remove in production)\n",
    "    else:\n",
    "        raise ValueError(\"API_KEY not found in file!\")\n",
    "\n",
    "except FileNotFoundError:\n",
    "    print(f\"Error: File not found at {file_path}. Check the path!\")\n",
    "\n",
    "except Exception as e:\n",
    "    print(f\"Error: {e}\")"
   ]
  },
  {
   "cell_type": "code",
   "execution_count": 24,
   "metadata": {},
   "outputs": [
    {
     "ename": "ValueError",
     "evalue": "API_KEY not found. Make sure your .env file is set up correctly.",
     "output_type": "error",
     "traceback": [
      "\u001b[0;31m---------------------------------------------------------------------------\u001b[0m",
      "\u001b[0;31mValueError\u001b[0m                                Traceback (most recent call last)",
      "Cell \u001b[0;32mIn[24], line 13\u001b[0m\n\u001b[1;32m     11\u001b[0m \u001b[38;5;66;03m# Ensure the API key is loaded\u001b[39;00m\n\u001b[1;32m     12\u001b[0m \u001b[38;5;28;01mif\u001b[39;00m \u001b[38;5;129;01mnot\u001b[39;00m api_key:\n\u001b[0;32m---> 13\u001b[0m     \u001b[38;5;28;01mraise\u001b[39;00m \u001b[38;5;167;01mValueError\u001b[39;00m(\u001b[38;5;124m\"\u001b[39m\u001b[38;5;124mAPI_KEY not found. Make sure your .env file is set up correctly.\u001b[39m\u001b[38;5;124m\"\u001b[39m)\n\u001b[1;32m     15\u001b[0m \u001b[38;5;66;03m# Configure the API\u001b[39;00m\n\u001b[1;32m     16\u001b[0m genai\u001b[38;5;241m.\u001b[39mconfigure(api_key\u001b[38;5;241m=\u001b[39mapi_key)\n",
      "\u001b[0;31mValueError\u001b[0m: API_KEY not found. Make sure your .env file is set up correctly."
     ]
    }
   ],
   "source": [
    "import google.generativeai as genai\n",
    "import os\n",
    "from dotenv import load_dotenv\n",
    "\n",
    "# Load environment variables\n",
    "load_dotenv()\n",
    "\n",
    "# Get the API key\n",
    "api_key = os.getenv(\"API_KEY\")\n",
    "\n",
    "# Ensure the API key is loaded\n",
    "if not api_key:\n",
    "    raise ValueError(\"API_KEY not found. Make sure your .env file is set up correctly.\")\n",
    "\n",
    "# Configure the API\n",
    "genai.configure(api_key=api_key)\n",
    "\n",
    "# Use the model\n",
    "model = genai.GenerativeModel(\"gemini-2.0-flash\")\n",
    "response = model.generate_content(\"Explain how AI works\")\n",
    "\n",
    "# Print the response\n",
    "print(response.text)"
   ]
  }
 ],
 "metadata": {
  "kernelspec": {
   "display_name": "base",
   "language": "python",
   "name": "python3"
  },
  "language_info": {
   "codemirror_mode": {
    "name": "ipython",
    "version": 3
   },
   "file_extension": ".py",
   "mimetype": "text/x-python",
   "name": "python",
   "nbconvert_exporter": "python",
   "pygments_lexer": "ipython3",
   "version": "3.12.4"
  }
 },
 "nbformat": 4,
 "nbformat_minor": 2
}
