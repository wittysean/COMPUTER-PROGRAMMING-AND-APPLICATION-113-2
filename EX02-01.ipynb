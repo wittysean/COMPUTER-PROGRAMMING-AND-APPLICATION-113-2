{
 "cells": [
  {
   "cell_type": "code",
   "execution_count": null,
   "metadata": {},
   "outputs": [
    {
     "name": "stdout",
     "output_type": "stream",
     "text": [
      "Okay, let's break down how AI works.  It's a broad field, so I'll give you a foundational understanding and then touch on some key concepts.\n",
      "\n",
      "**Core Idea: Mimicking Human Intelligence**\n",
      "\n",
      "At its heart, AI is about creating machines that can perform tasks that typically require human intelligence. This includes things like:\n",
      "\n",
      "*   **Learning:**  Gaining knowledge from data and experience.\n",
      "*   **Reasoning:**  Using logic to draw conclusions and solve problems.\n",
      "*   **Problem Solving:**  Finding solutions to complex situations.\n",
      "*   **Perception:**  Understanding the world through senses (like sight, sound, and touch).\n",
      "*   **Natural Language Processing (NLP):** Understanding and generating human language.\n",
      "*   **Decision Making:**  Choosing the best course of action.\n",
      "\n",
      "**How AI Achieves This: Key Components**\n",
      "\n",
      "AI systems generally rely on these core components:\n",
      "\n",
      "1.  **Data:**\n",
      "\n",
      "    *   **Foundation:** Data is the fuel that powers AI. AI algorithms learn from vast amounts of data to identify patterns, make predictions, and improve their performance.\n",
      "    *   **Types of Data:**  Data can be anything from text, images, audio, video, sensor readings, or numerical data.\n",
      "    *   **Data Quality:** The quality and relevance of the data are crucial.  Garbage in, garbage out!  Clean, well-labeled data leads to better AI models.\n",
      "\n",
      "2.  **Algorithms:**\n",
      "\n",
      "    *   **The Brains of the Operation:** Algorithms are sets of instructions that tell the AI system how to process data and perform a specific task.\n",
      "    *   **Different Types for Different Tasks:**  There are many different types of AI algorithms, each suited for different types of problems.  Some common examples include:\n",
      "        *   **Machine Learning (ML):** Algorithms that allow computers to learn from data without being explicitly programmed.\n",
      "        *   **Deep Learning (DL):** A subfield of ML that uses artificial neural networks with many layers to analyze data and learn complex patterns.\n",
      "        *   **Rule-Based Systems:**  AI systems that use a set of predefined rules to make decisions.\n",
      "        *   **Search Algorithms:** Algorithms that explore different possibilities to find the best solution to a problem (e.g., pathfinding in games).\n",
      "\n",
      "3.  **Models:**\n",
      "\n",
      "    *   **The Learned Representation:**  A model is the output of an AI algorithm after it has been trained on data. It's essentially a mathematical representation of the patterns and relationships learned from the data.\n",
      "    *   **Using the Model:**  Once a model is trained, it can be used to make predictions or decisions on new, unseen data.  For example, an image recognition model can identify objects in new images.\n",
      "\n",
      "4.  **Hardware:**\n",
      "\n",
      "    *   **The Engine:**  AI algorithms often require significant computational power, especially for training complex models.\n",
      "    *   **CPUs and GPUs:**  Central Processing Units (CPUs) and Graphics Processing Units (GPUs) are used to process data and run AI algorithms. GPUs are particularly well-suited for parallel processing, which is essential for deep learning.\n",
      "    *   **Specialized Hardware:**  Some AI applications use specialized hardware, such as Tensor Processing Units (TPUs), which are designed specifically for AI workloads.\n",
      "\n",
      "**How Machine Learning Works (A Deeper Dive)**\n",
      "\n",
      "Since machine learning is a dominant approach in modern AI, let's explore it in more detail:\n",
      "\n",
      "1.  **Data Collection and Preparation:**  Gathering and cleaning the data that will be used to train the model. This often involves removing errors, handling missing values, and transforming the data into a suitable format.\n",
      "\n",
      "2.  **Feature Engineering (Optional but Important):** Selecting, transforming, and creating relevant features from the raw data.  Features are the inputs that the model will use to make predictions.  Good features can significantly improve the performance of the model.\n",
      "\n",
      "3.  **Model Selection:** Choosing the appropriate machine learning algorithm for the task at hand. This depends on the type of data, the desired outcome, and the complexity of the problem. Examples include:\n",
      "    *   **Linear Regression:** For predicting continuous values (e.g., predicting house prices).\n",
      "    *   **Logistic Regression:** For predicting categorical values (e.g., classifying emails as spam or not spam).\n",
      "    *   **Support Vector Machines (SVMs):** For classification and regression tasks.\n",
      "    *   **Decision Trees:** For classification and regression tasks, easy to interpret.\n",
      "    *   **Random Forests:**  An ensemble method that combines multiple decision trees to improve accuracy.\n",
      "    *   **Neural Networks:** For complex tasks such as image recognition, natural language processing, and speech recognition.\n",
      "\n",
      "4.  **Training the Model:**\n",
      "\n",
      "    *   **Feeding the Data:**  The chosen algorithm is fed the training data.\n",
      "    *   **Learning the Patterns:** The algorithm adjusts its internal parameters to minimize the difference between its predictions and the actual values in the training data. This process is often called \"optimization.\"\n",
      "    *   **Loss Function:** A loss function is used to measure the error between the model's predictions and the actual values. The goal of training is to minimize this loss function.\n",
      "\n",
      "5.  **Validation and Testing:**\n",
      "\n",
      "    *   **Evaluating Performance:**  Once the model is trained, it's evaluated on a separate set of data called the validation set. This helps to assess how well the model generalizes to new, unseen data.\n",
      "    *   **Fine-Tuning:**  The model's parameters are adjusted based on the validation results to improve its performance.\n",
      "    *   **Final Testing:**  After fine-tuning, the model is tested on a final test set to get an unbiased estimate of its performance.\n",
      "\n",
      "6.  **Deployment:**\n",
      "\n",
      "    *   **Putting the Model to Work:** The trained model is deployed into a real-world environment where it can be used to make predictions or decisions.\n",
      "    *   **Monitoring and Maintenance:**  The model's performance is continuously monitored, and it may need to be retrained periodically to maintain its accuracy as new data becomes available.\n",
      "\n",
      "**Deep Learning:  A Special Case**\n",
      "\n",
      "Deep learning is a subfield of machine learning that uses artificial neural networks with many layers (hence \"deep\") to analyze data.  These networks are inspired by the structure of the human brain and are capable of learning very complex patterns.\n",
      "\n",
      "*   **Neural Networks:**  Composed of interconnected nodes (neurons) arranged in layers.  Each connection between neurons has a weight associated with it, which represents the strength of the connection.\n",
      "*   **Layers:** Input layer (receives the data), hidden layers (perform computations), and an output layer (produces the prediction).  Deep learning networks have many hidden layers.\n",
      "*   **Backpropagation:**  A key algorithm used to train neural networks. It calculates the gradient of the loss function with respect to the weights and biases of the network and uses this gradient to update the weights and biases in the direction that minimizes the loss.\n",
      "*   **Applications:** Image recognition, natural language processing, speech recognition, and many other areas.\n",
      "\n",
      "**Examples of AI in Action**\n",
      "\n",
      "*   **Self-driving cars:** Use AI to perceive their surroundings, make decisions, and navigate roads.\n",
      "*   **Spam filters:** Use AI to identify and filter out unwanted emails.\n",
      "*   **Virtual assistants (e.g., Siri, Alexa, Google Assistant):** Use AI to understand and respond to voice commands.\n",
      "*   **Recommendation systems (e.g., Netflix, Amazon):** Use AI to suggest products or content that users might be interested in.\n",
      "*   **Medical diagnosis:**  AI can assist doctors in diagnosing diseases by analyzing medical images and patient data.\n",
      "*   **Fraud detection:**  AI can identify fraudulent transactions by analyzing patterns in financial data.\n",
      "\n",
      "**Challenges and Considerations**\n",
      "\n",
      "*   **Bias:** AI models can inherit biases from the data they are trained on, leading to unfair or discriminatory outcomes.\n",
      "*   **Explainability:**  It can be difficult to understand how some AI models (especially deep learning models) make their decisions, which can make it challenging to trust them.\n",
      "*   **Ethical Considerations:**  AI raises important ethical questions about privacy, autonomy, and the potential for misuse.\n",
      "*   **Data Requirements:**  AI models often require large amounts of data to train effectively.\n",
      "*   **Computational Resources:**  Training and deploying AI models can be computationally expensive.\n",
      "\n",
      "**In Summary**\n",
      "\n",
      "AI involves using data and algorithms to create machines that can perform tasks that typically require human intelligence. Machine learning is a key approach, allowing systems to learn from data without explicit programming. Deep learning, a subfield of machine learning, uses artificial neural networks to analyze complex patterns. While AI offers tremendous potential, it's important to address ethical considerations and challenges such as bias and explainability.\n",
      "\n"
     ]
    }
   ],
   "source": [
    "import google.generativeai as genai\n",
    "import os\n",
    "from dotenv import load_dotenv\n",
    "\n",
    "env_path = \"/Users/seanlin/Desktop/apikey.env\"  # Your file path\n",
    "\n",
    "load_dotenv(dotenv_path=env_path)\n",
    "\n",
    "api_key = os.getenv(\"API_KEY\")\n",
    "\n",
    "if not api_key:\n",
    "    raise ValueError(\"API_KEY not found! Check your .env file and path.\")\n",
    "\n",
    "genai.configure(api_key=api_key)\n",
    "\n",
    "model = genai.GenerativeModel(\"gemini-2.0-flash\")\n",
    "response = model.generate_content(\"Explain how AI works\")\n",
    "\n",
    "\n",
    "print(response.text)"
   ]
  },
  {
   "cell_type": "code",
   "execution_count": 2,
   "metadata": {},
   "outputs": [
    {
     "name": "stdout",
     "output_type": "stream",
     "text": [
      "Bot:\n"
     ]
    },
    {
     "data": {
      "text/markdown": [
       "Hi there! How can I help you today?\n"
      ],
      "text/plain": [
       "<IPython.core.display.Markdown object>"
      ]
     },
     "metadata": {},
     "output_type": "display_data"
    },
    {
     "name": "stdout",
     "output_type": "stream",
     "text": [
      "Bot:\n"
     ]
    },
    {
     "data": {
      "text/markdown": [
       "Okay, let's chat about contemporary art! It's a vast and fascinating field, and often a bit controversial. To get us started, what aspects of contemporary art are you most interested in? For example, are you curious about:\n",
       "\n",
       "*   **Specific themes or movements?** (e.g., identity, climate change, post-internet art, social practice)\n",
       "*   **Particular artists?** (e.g., Yayoi Kusama, Ai Weiwei, Kara Walker)\n",
       "*   **Specific mediums?** (e.g., performance art, installation art, digital art)\n",
       "*   **The role of technology?**\n",
       "*   **The relationship between art and society?**\n",
       "*   **The definition of contemporary art itself?** (Since it's always evolving!)\n",
       "\n",
       "To get the ball rolling, here are a few general ideas and trends in contemporary art that are often discussed:\n",
       "\n",
       "*   **Blurring Boundaries:** Contemporary art frequently challenges traditional definitions of art. It blends genres, mediums, and disciplines. You might see painting incorporated into sculpture, performance art that resembles activism, or digital art that questions the nature of reality.\n",
       "\n",
       "*   **Social Commentary:** Many contemporary artists use their work to address pressing social and political issues, such as inequality, environmental degradation, identity politics, and globalization.\n",
       "\n",
       "*   **Conceptual Art:** The idea behind the artwork is often more important than the physical object itself. This can lead to works that are challenging or even seemingly \"empty\" to some viewers, but are rich in meaning and intent.\n",
       "\n",
       "*   **Audience Participation:** Some contemporary artists actively involve the audience in the creation or experience of their work. This can range from interactive installations to participatory performances.\n",
       "\n",
       "*   **Technology and New Media:** The rise of digital technologies has had a profound impact on contemporary art. Artists are using virtual reality, augmented reality, artificial intelligence, and other tools to create new and immersive experiences.\n",
       "\n",
       "*   **Globalization and Cultural Exchange:** Contemporary art is increasingly global in scope, with artists from diverse backgrounds and cultures influencing and inspiring each other. This leads to cross-cultural dialogues and hybrid forms of artistic expression.\n",
       "\n",
       "So, tell me, what sparks your interest the most? What are you hoping to explore in this conversation? Let me know and we can delve deeper!\n"
      ],
      "text/plain": [
       "<IPython.core.display.Markdown object>"
      ]
     },
     "metadata": {},
     "output_type": "display_data"
    },
    {
     "name": "stdout",
     "output_type": "stream",
     "text": [
      "Bot:\n"
     ]
    },
    {
     "data": {
      "text/markdown": [
       "Ah, a very relevant and often debated topic! The \"pricing bubble\" in contemporary art is a fascinating and somewhat alarming phenomenon. Let's unpack it:\n",
       "\n",
       "**What is the \"Pricing Bubble\"?**\n",
       "\n",
       "Essentially, it refers to the rapid and often seemingly irrational inflation of prices for contemporary artworks, particularly within the last few decades. This has led to situations where:\n",
       "\n",
       "*   **Record-breaking auction prices:** Artworks by certain contemporary artists sell for tens or even hundreds of millions of dollars, far exceeding what many consider a \"reasonable\" valuation based on artistic merit or historical significance.\n",
       "*   **Speculation and investment:** Art is increasingly treated as an asset class, with investors buying and selling artworks primarily for profit, rather than for aesthetic appreciation or cultural value.\n",
       "*   **Gaps between primary and secondary markets:** Artists may sell their work for relatively modest prices initially (primary market), but those same works can quickly skyrocket in value when resold on the secondary market (auctions, private sales).\n",
       "*   **Concentration of wealth:** The art market is increasingly dominated by a small number of ultra-wealthy collectors and institutions, which can skew the market and make it difficult for emerging artists or smaller galleries to thrive.\n",
       "\n",
       "**Factors Contributing to the Bubble:**\n",
       "\n",
       "*   **Globalization and Increased Wealth:** The rise of emerging economies and the concentration of wealth in the hands of a global elite have fueled demand for luxury goods, including art.\n",
       "*   **Financialization of Art:** Art has become a popular alternative investment vehicle, attracting investors who are looking for returns outside of traditional markets.\n",
       "*   **Brand Recognition:** Certain artists are cultivated as \"brands,\" with their names and images becoming highly recognizable and desirable, driving up prices.\n",
       "*   **Museums and Institutions:** The endorsement of museums and prestigious galleries can significantly increase an artist's market value.\n",
       "*   **Social Media and Hype:** Social media platforms can amplify trends and create hype around certain artists or artworks, contributing to price inflation.\n",
       "*   **Lack of Transparency:** The art market is notoriously opaque, with limited regulation and a lack of price transparency, which can make it easier for speculation and manipulation to occur.\n",
       "\n",
       "**Concerns about the Bubble:**\n",
       "\n",
       "*   **Distortion of Artistic Value:** The focus on price can overshadow the intrinsic artistic value of artworks, leading to a situation where marketability trumps artistic merit.\n",
       "*   **Exclusion and Inequality:** The high prices of contemporary art can make it inaccessible to the general public and to smaller institutions, limiting their ability to engage with contemporary culture.\n",
       "*   **Instability:** Bubbles are inherently unstable and prone to bursting. A sudden correction in the art market could have significant consequences for artists, galleries, and investors.\n",
       "*   **Ethical Concerns:** The speculative nature of the art market raises ethical questions about the role of art as a commodity and the potential for conflicts of interest.\n",
       "\n",
       "**Arguments Against the \"Bubble\" Narrative:**\n",
       "\n",
       "*   **Art as a Store of Value:** Some argue that art is a legitimate store of value, similar to gold or real estate, and that high prices reflect its scarcity and enduring appeal.\n",
       "*   **Support for Artists:** High prices can benefit artists by increasing their visibility and enabling them to continue creating work.\n",
       "*   **Natural Market Fluctuations:** Market fluctuations are a normal part of any industry, and that the art market is simply responding to supply and demand.\n",
       "*   **Different Tiers:** The \"bubble\" might be more pronounced at the very high end of the market, while the rest of the art world operates on a different scale.\n",
       "\n",
       "**So, what are your thoughts on this?**\n",
       "\n",
       "*   Do you think there *is* a pricing bubble in contemporary art?\n",
       "*   If so, what do you think are the most significant factors contributing to it?\n",
       "*   What do you think the potential consequences of a burst bubble would be?\n",
       "*   Are there any artists or specific instances that you think exemplify this phenomenon?\n",
       "\n",
       "I'm interested to hear your perspective!\n"
      ],
      "text/plain": [
       "<IPython.core.display.Markdown object>"
      ]
     },
     "metadata": {},
     "output_type": "display_data"
    },
    {
     "name": "stdout",
     "output_type": "stream",
     "text": [
      "Bot:\n"
     ]
    },
    {
     "data": {
      "text/markdown": [
       "You're welcome! It was a good conversation. Feel free to reach out if you have any more questions about art (or anything else) in the future. Bye for now!\n"
      ],
      "text/plain": [
       "<IPython.core.display.Markdown object>"
      ]
     },
     "metadata": {},
     "output_type": "display_data"
    },
    {
     "name": "stdout",
     "output_type": "stream",
     "text": [
      "Bot:\n"
     ]
    },
    {
     "data": {
      "text/markdown": [
       "Goodbye! Have a great day.\n"
      ],
      "text/plain": [
       "<IPython.core.display.Markdown object>"
      ]
     },
     "metadata": {},
     "output_type": "display_data"
    }
   ],
   "source": [
    "import os\n",
    "from dotenv import load_dotenv\n",
    "import google.generativeai as genai\n",
    "from IPython.display import Markdown, display\n",
    "\n",
    "# Load .env file with API key\n",
    "load_dotenv(\"/Users/seanlin/Desktop/apikey.env\")\n",
    "\n",
    "# Get the API key\n",
    "api_key = os.getenv(\"API_KEY\")\n",
    "\n",
    "if not api_key:\n",
    "    raise ValueError(\"API_KEY not found! Check your .env file.\")\n",
    "\n",
    "# Configure Generative AI\n",
    "genai.configure(api_key=api_key)\n",
    "\n",
    "# Generation settings\n",
    "generation_config = {\n",
    "    \"temperature\": 0.7,\n",
    "    \"max_output_tokens\": 1280\n",
    "}\n",
    "\n",
    "# Initialize model\n",
    "model = genai.GenerativeModel(\n",
    "    model_name=\"gemini-2.0-flash\",\n",
    "    generation_config=generation_config\n",
    ")\n",
    "\n",
    "# Start chat\n",
    "chat = model.start_chat(history=[])\n",
    "\n",
    "# Chatbot loop\n",
    "while True:\n",
    "    message = input(\"You: \")\n",
    "    if message.lower() == \"bye!\":\n",
    "        break\n",
    "\n",
    "    response = chat.send_message(message)\n",
    "    print(\"Bot:\")\n",
    "    display(Markdown(response.text))"
   ]
  }
 ],
 "metadata": {
  "kernelspec": {
   "display_name": "base",
   "language": "python",
   "name": "python3"
  },
  "language_info": {
   "codemirror_mode": {
    "name": "ipython",
    "version": 3
   },
   "file_extension": ".py",
   "mimetype": "text/x-python",
   "name": "python",
   "nbconvert_exporter": "python",
   "pygments_lexer": "ipython3",
   "version": "3.12.4"
  }
 },
 "nbformat": 4,
 "nbformat_minor": 2
}
