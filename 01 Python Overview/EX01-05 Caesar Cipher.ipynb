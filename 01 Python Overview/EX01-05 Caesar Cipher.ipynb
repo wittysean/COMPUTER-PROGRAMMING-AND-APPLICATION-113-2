{
 "cells": [
  {
   "cell_type": "code",
   "execution_count": null,
   "metadata": {},
   "outputs": [],
   "source": [
    "\n",
    "\n",
    "\n",
    "\n",
    "\n",
    "\n",
    "#mode_key_input = input()\n",
    "#text_input = input()\n",
    "\n",
    "#mode = mode_key=input[0]\n",
    "#key = int(mode_key_input[1:])\n",
    "\n",
    "\n",
    "#print(caesar_cipher(mode,key,text_input))"
   ]
  },
  {
   "cell_type": "code",
   "execution_count": 2,
   "metadata": {},
   "outputs": [
    {
     "name": "stdout",
     "output_type": "stream",
     "text": [
      "pq\n"
     ]
    }
   ],
   "source": [
    "act = input()\n",
    "txt = input()\n",
    "\n",
    "act_type = act[0]\n",
    "key = int(act[1:])\n",
    "ntxt = ''\n",
    "\n",
    "\n",
    "if act_type == 'd':\n",
    "    for c in txt:\n",
    "        nc = ord(c) - key \n",
    "        ntxt = ntxt + chr(nc)\n",
    "\n",
    "else:\n",
    "    for c in txt:\n",
    "        nc  = ord(c) + key \n",
    "        ntxt  = ntxt + chr(nc)\n",
    "\n",
    "print(ntxt)"
   ]
  }
 ],
 "metadata": {
  "kernelspec": {
   "display_name": "base",
   "language": "python",
   "name": "python3"
  },
  "language_info": {
   "codemirror_mode": {
    "name": "ipython",
    "version": 3
   },
   "file_extension": ".py",
   "mimetype": "text/x-python",
   "name": "python",
   "nbconvert_exporter": "python",
   "pygments_lexer": "ipython3",
   "version": "3.12.4"
  }
 },
 "nbformat": 4,
 "nbformat_minor": 2
}
