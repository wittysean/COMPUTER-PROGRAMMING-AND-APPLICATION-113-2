{
 "cells": [
  {
   "cell_type": "code",
   "execution_count": 3,
   "metadata": {},
   "outputs": [
    {
     "name": "stdout",
     "output_type": "stream",
     "text": [
      "ply 2\n",
      "computer: 0\n",
      "U Lose\n"
     ]
    }
   ],
   "source": [
    "import random\n",
    "\n",
    "ply = int(input())\n",
    "cpu = random.choice([0,2,5])\n",
    "print(\"ply\", ply)\n",
    "print(\"computer:\", cpu)\n",
    "if ply == cpu:\n",
    "    print(\"draw\")\n",
    "elif (ply == 0 and cpu == 2) or (ply == 2 and cpu == 5) or (ply == 5 and cpu == 0):\n",
    "    print(\"U Win\")\n",
    "else:\n",
    "    print(\"U Lose\")\n",
    "\n"
   ]
  }
 ],
 "metadata": {
  "kernelspec": {
   "display_name": "base",
   "language": "python",
   "name": "python3"
  },
  "language_info": {
   "codemirror_mode": {
    "name": "ipython",
    "version": 3
   },
   "file_extension": ".py",
   "mimetype": "text/x-python",
   "name": "python",
   "nbconvert_exporter": "python",
   "pygments_lexer": "ipython3",
   "version": "3.12.4"
  }
 },
 "nbformat": 4,
 "nbformat_minor": 2
}
