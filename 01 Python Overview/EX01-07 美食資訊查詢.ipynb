{
 "cells": [
  {
   "cell_type": "code",
   "execution_count": 8,
   "metadata": {},
   "outputs": [
    {
     "name": "stdout",
     "output_type": "stream",
     "text": [
      "the sum is: 19\n"
     ]
    }
   ],
   "source": [
    "def adds_numbers(a,b):\n",
    "    s = a + b\n",
    "    return s\n",
    "result = adds_numbers(8,11)\n",
    "print(f\"the sum is: {result}\")\n"
   ]
  },
  {
   "cell_type": "code",
   "execution_count": 11,
   "metadata": {},
   "outputs": [
    {
     "name": "stdout",
     "output_type": "stream",
     "text": [
      "mike\n"
     ]
    }
   ],
   "source": [
    "def show_data(name= 'anonymous'):\n",
    "    print(name)\n",
    "show_data('mike')"
   ]
  },
  {
   "cell_type": "code",
   "execution_count": 12,
   "metadata": {},
   "outputs": [
    {
     "name": "stdout",
     "output_type": "stream",
     "text": [
      "9\n"
     ]
    }
   ],
   "source": [
    "add = lambda a,b: a+b\n",
    "print(add(3,6))"
   ]
  },
  {
   "cell_type": "code",
   "execution_count": 14,
   "metadata": {},
   "outputs": [
    {
     "name": "stdout",
     "output_type": "stream",
     "text": [
      "13\n"
     ]
    }
   ],
   "source": [
    "def add(a,b):\n",
    "    return a + b\n",
    "print(add(5,8))\n"
   ]
  },
  {
   "cell_type": "code",
   "execution_count": null,
   "metadata": {},
   "outputs": [],
   "source": [
    "nms = input().split()\n",
    "nms\n",
    "ns = []\n",
    "for i in nms:\n",
    "    i = int(i)\n",
    "    ns.append(i)\n",
    "ns\n",
    "#the usage and meaning of the map function"
   ]
  },
  {
   "cell_type": "markdown",
   "metadata": {},
   "source": [
    "import gradio as gr\n",
    "\n",
    "food_database = [\n",
    "    {\"name\": \"春蘭割包\" , \"address\":  \"800高雄市新興區復興一路5號\" , \"phone\": \"+88672017806\" },\n",
    "    {\"name\": \"上海生煎湯包\" , \"address\":  \"807高雄市三民區熱河一街208號\",\"phone\": \"+88673220792\" },\n",
    "    {\"name\": \"岡山就是羊肉\" , \"address\":  \"820高雄市岡山區河華路111號\",\"phone\": \"+88676258151\" },\n",
    "    {\"name\": \"黃家肉燥飯\" , \"address\":  \"825高雄市橋頭區橋南路106號\",\"phone\": \"+88676123253\" },\n",
    "    {\"name\": \"龍記餡餅\" , \"address\":  \"820高雄市岡山區溪東路2號\",\"phone\": \"+88673220792\" }\n",
    "]\n",
    "\n",
    "menu = []\n",
    "for im in food_database:\n",
    "    menu.append(im[\"name\"])\n",
    "print(menu)\n",
    "st = input()\n",
    "\n",
    "def food_info(store_name):\n",
    "    info =''\n",
    "    for im in food_database:\n",
    "        if im [\"name\"] == store_name:\n",
    "            info = im[\"name\"] + '\\n' + im[\"address\"] + \"\\n\" + im[\"phone\"]\n",
    "            return info\n",
    "    return 'not found!'\n",
    "\n",
    "\n",
    "#construct interface\n",
    "interface = gr.Interface(\n",
    "    fn=food_info,\n",
    "    inputs=gr.Dropdown(choices=menu, label='Please choose a restaurant'),\n",
    "    outputs=gr.Textbox(label= 'info about the restaurants:')\n",
    "\n",
    ")\n",
    "\n",
    "interface.launch()"
   ]
  },
  {
   "cell_type": "code",
   "execution_count": 2,
   "metadata": {},
   "outputs": [
    {
     "name": "stdout",
     "output_type": "stream",
     "text": [
      "* Running on local URL:  http://127.0.0.1:7861\n",
      "\n",
      "To create a public link, set `share=True` in `launch()`.\n"
     ]
    },
    {
     "data": {
      "text/html": [
       "<div><iframe src=\"http://127.0.0.1:7861/\" width=\"100%\" height=\"500\" allow=\"autoplay; camera; microphone; clipboard-read; clipboard-write;\" frameborder=\"0\" allowfullscreen></iframe></div>"
      ],
      "text/plain": [
       "<IPython.core.display.HTML object>"
      ]
     },
     "metadata": {},
     "output_type": "display_data"
    },
    {
     "data": {
      "text/plain": []
     },
     "execution_count": 2,
     "metadata": {},
     "output_type": "execute_result"
    }
   ],
   "source": [
    "import gradio as gr\n",
    "\n",
    "# Food database containing restaurants' details\n",
    "food_database = [\n",
    "    {\"name\": \"春蘭割包\", \"address\": \"800高雄市新興區復興一路5號\", \"phone\": \"+88672017806\"},\n",
    "    {\"name\": \"上海生煎湯包\", \"address\": \"807高雄市三民區熱河一街208號\", \"phone\": \"+88673220792\"},\n",
    "    {\"name\": \"岡山就是羊肉\", \"address\": \"820高雄市岡山區河華路111號\", \"phone\": \"+88676258151\"},\n",
    "    {\"name\": \"黃家肉燥飯\", \"address\": \"825高雄市橋頭區橋南路106號\", \"phone\": \"+88676123253\"},\n",
    "    {\"name\": \"龍記餡餅\", \"address\": \"820高雄市岡山區溪東路2號\", \"phone\": \"+88673220792\"}\n",
    "]\n",
    "\n",
    "# Extracting restaurant names for the dropdown menu\n",
    "menu = [restaurant[\"name\"] for restaurant in food_database]\n",
    "\n",
    "def food_info(store_name):\n",
    "    \"\"\"Retrieve restaurant info based on the selected store name.\"\"\"\n",
    "    for restaurant in food_database:\n",
    "        if restaurant[\"name\"] == store_name:\n",
    "            return f\"店名: {restaurant['name']}\\n地址: {restaurant['address']}\\n電話: {restaurant['phone']}\"\n",
    "    return \"未找到該餐廳！\"\n",
    "\n",
    "# Construct the Gradio interface\n",
    "interface = gr.Interface(\n",
    "    fn=food_info,\n",
    "    inputs=gr.Dropdown(choices=menu, label=\"請選擇餐廳\"),\n",
    "    outputs=gr.Textbox(label=\"餐廳資訊\")\n",
    ")\n",
    "\n",
    "# Launch the interface\n",
    "interface.launch()"
   ]
  }
 ],
 "metadata": {
  "kernelspec": {
   "display_name": "base",
   "language": "python",
   "name": "python3"
  },
  "language_info": {
   "codemirror_mode": {
    "name": "ipython",
    "version": 3
   },
   "file_extension": ".py",
   "mimetype": "text/x-python",
   "name": "python",
   "nbconvert_exporter": "python",
   "pygments_lexer": "ipython3",
   "version": "3.12.4"
  }
 },
 "nbformat": 4,
 "nbformat_minor": 2
}
