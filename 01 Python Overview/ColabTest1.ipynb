{
  "cells": [
    {
      "cell_type": "markdown",
      "metadata": {
        "colab_type": "text",
        "id": "view-in-github"
      },
      "source": [
        "<a href=\"https://colab.research.google.com/github/wittysean/COMPUTER-PROGRAMMING-AND-APPLICATION-113-2/blob/main/ColabTest1.ipynb\" target=\"_parent\"><img src=\"https://colab.research.google.com/assets/colab-badge.svg\" alt=\"Open In Colab\"/></a>"
      ]
    },
    {
      "cell_type": "code",
      "execution_count": 1,
      "metadata": {
        "colab": {
          "base_uri": "https://localhost:8080/"
        },
        "id": "KNdNHrvM1NBF",
        "outputId": "8ea28e16-ef17-4435-b729-b340a720cfe3"
      },
      "outputs": [
        {
          "name": "stdout",
          "output_type": "stream",
          "text": [
            "You chose: paper\n",
            "Computer chose: scissors\n",
            "You lose!\n"
          ]
        }
      ],
      "source": [
        "import random\n",
        "\n",
        "def play_rock_paper_scissors():\n",
        "  \"\"\"Plays a game of Rock, Paper, Scissors against the computer.\"\"\"\n",
        "\n",
        "  user_choice = input(\"Enter your choice (rock, paper, or scissors): \")\n",
        "  computer_choice = random.choice([\"rock\", \"paper\", \"scissors\"])\n",
        "\n",
        "  print(f\"You chose: {user_choice}\")\n",
        "  print(f\"Computer chose: {computer_choice}\")\n",
        "\n",
        "  if user_choice == computer_choice:\n",
        "    print(\"It's a tie!\")\n",
        "  elif (user_choice == \"rock\" and computer_choice == \"scissors\") or \\\n",
        "       (user_choice == \"paper\" and computer_choice == \"rock\") or \\\n",
        "       (user_choice == \"scissors\" and computer_choice == \"paper\"):\n",
        "    print(\"You win!\")\n",
        "  else:\n",
        "    print(\"You lose!\")\n",
        "\n",
        "# Start the game\n",
        "play_rock_paper_scissors()"
      ]
    },
    {
      "cell_type": "code",
      "execution_count": 3,
      "metadata": {},
      "outputs": [
        {
          "name": "stdout",
          "output_type": "stream",
          "text": [
            "hi fucker\n"
          ]
        }
      ],
      "source": [
        "name = input(\"your name\")\n",
        "print(\"hi\" ,name)"
      ]
    }
  ],
  "metadata": {
    "colab": {
      "authorship_tag": "ABX9TyNX5xfSDD0XoS3wIdcqoWWM",
      "include_colab_link": true,
      "provenance": []
    },
    "kernelspec": {
      "display_name": "base",
      "language": "python",
      "name": "python3"
    },
    "language_info": {
      "codemirror_mode": {
        "name": "ipython",
        "version": 3
      },
      "file_extension": ".py",
      "mimetype": "text/x-python",
      "name": "python",
      "nbconvert_exporter": "python",
      "pygments_lexer": "ipython3",
      "version": "3.12.4"
    }
  },
  "nbformat": 4,
  "nbformat_minor": 0
}
